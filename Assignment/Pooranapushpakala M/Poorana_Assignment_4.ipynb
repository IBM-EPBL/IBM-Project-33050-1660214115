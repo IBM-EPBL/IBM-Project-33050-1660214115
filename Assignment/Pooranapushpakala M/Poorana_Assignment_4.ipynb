{
  "cells": [
    {
      "cell_type": "markdown",
      "id": "6ef9e397",
      "metadata": {
        "id": "6ef9e397"
      },
      "source": [
        "# 1. Load the dataset into the tool"
      ]
    },
    {
      "cell_type": "code",
      "execution_count": 1,
      "id": "53392050",
      "metadata": {
        "id": "53392050"
      },
      "outputs": [],
      "source": [
        "#importing the libraries\n",
        "\n",
        "import pandas as pd \n",
        "import numpy as np\n",
        "import matplotlib.pyplot as plt\n",
        "import seaborn as sns\n",
        "import warnings \n",
        "warnings.filterwarnings('ignore')"
      ]
    },
    {
      "cell_type": "code",
      "execution_count": null,
      "id": "9ebf470a",
      "metadata": {
        "id": "9ebf470a"
      },
      "outputs": [],
      "source": [
        "#loading the dataset\n",
        "\n",
        "d = pd.read_csv(r'C:\\Poorana')"
      ]
    },
    {
      "cell_type": "markdown",
      "id": "3c231201",
      "metadata": {
        "id": "3c231201"
      },
      "source": [
        "# 2. Perform Below Visualizations"
      ]
    },
    {
      "cell_type": "markdown",
      "id": "15ef19bd",
      "metadata": {
        "id": "15ef19bd"
      },
      "source": [
        "## ∙Univariate Analysis\n"
      ]
    },
    {
      "cell_type": "code",
      "execution_count": 3,
      "id": "5915ce32",
      "metadata": {
        "colab": {
          "base_uri": "https://localhost:8080/",
          "height": 165
        },
        "id": "5915ce32",
        "outputId": "5e81c02c-359c-4f3b-8b78-e501d7597219"
      },
      "outputs": [
        {
          "output_type": "error",
          "ename": "NameError",
          "evalue": "ignored",
          "traceback": [
            "\u001b[0;31m---------------------------------------------------------------------------\u001b[0m",
            "\u001b[0;31mNameError\u001b[0m                                 Traceback (most recent call last)",
            "\u001b[0;32m<ipython-input-3-88008315031f>\u001b[0m in \u001b[0;36m<module>\u001b[0;34m\u001b[0m\n\u001b[0;32m----> 1\u001b[0;31m \u001b[0md\u001b[0m\u001b[0;34m.\u001b[0m\u001b[0mhead\u001b[0m\u001b[0;34m(\u001b[0m\u001b[0;34m)\u001b[0m\u001b[0;34m\u001b[0m\u001b[0;34m\u001b[0m\u001b[0m\n\u001b[0m",
            "\u001b[0;31mNameError\u001b[0m: name 'd' is not defined"
          ]
        }
      ],
      "source": [
        "d.head()"
      ]
    },
    {
      "cell_type": "code",
      "execution_count": null,
      "id": "b8856d42",
      "metadata": {
        "id": "b8856d42",
        "outputId": "d9693821-8ddd-4c7d-8258-024fe1a6eff5"
      },
      "outputs": [
        {
          "data": {
            "text/plain": [
              "<AxesSubplot:xlabel='Diameter'>"
            ]
          },
          "execution_count": 4,
          "metadata": {},
          "output_type": "execute_result"
        },
        {
          "data": {
            "image/png": "[encoded data removed]",
            "text/plain": [
              "<Figure size 432x288 with 1 Axes>"
            ]
          },
          "metadata": {
            "needs_background": "light"
          },
          "output_type": "display_data"
        }
      ],
      "source": [
        "#Boxplot\n",
        "\n",
        "sns.boxplot(d['Diameter'])"
      ]
    },
    {
      "cell_type": "code",
      "execution_count": null,
      "id": "773ef555",
      "metadata": {
        "id": "773ef555",
        "outputId": "b6f09faf-1ae5-48ba-e927-62bed1b44ae3"
      },
      "outputs": [
        {
          "data": {
            "text/plain": [
              "(array([  13.,   66.,  180.,  344.,  513.,  812., 1017.,  934.,  275.,\n",
              "          23.]),\n",
              " array([0.055 , 0.1145, 0.174 , 0.2335, 0.293 , 0.3525, 0.412 , 0.4715,\n",
              "        0.531 , 0.5905, 0.65  ]),\n",
              " <BarContainer object of 10 artists>)"
            ]
          },
          "execution_count": 5,
          "metadata": {},
          "output_type": "execute_result"
        },
        {
          "data": {
            "image/png": "[encoded data removed]",
            "text/plain": [
              "<Figure size 432x288 with 1 Axes>"
            ]
          },
          "metadata": {
            "needs_background": "light"
          },
          "output_type": "display_data"
        }
      ],
      "source": [
        "#histogram\n",
        "\n",
        "plt.hist(d['Diameter'])"
      ]
    },
    {
      "cell_type": "code",
      "execution_count": null,
      "id": "cf461af8",
      "metadata": {
        "id": "cf461af8",
        "outputId": "d6bae295-50f8-40b6-a9bc-7279b8507b7e"
      },
      "outputs": [
        {
          "data": {
            "text/plain": [
              "[<matplotlib.lines.Line2D at 0x1e536043a90>]"
            ]
          },
          "execution_count": 6,
          "metadata": {},
          "output_type": "execute_result"
        },
        {
          "data": {
            "image/png": "[encoded data removed]",
            "text/plain": [
              "<Figure size 432x288 with 1 Axes>"
            ]
          },
          "metadata": {
            "needs_background": "light"
          },
          "output_type": "display_data"
        }
      ],
      "source": [
        "#line plot\n",
        "\n",
        "plt.plot(d['Diameter'].head(10))"
      ]
    },
    {
      "cell_type": "code",
      "execution_count": null,
      "id": "f7f7e318",
      "metadata": {
        "id": "f7f7e318",
        "outputId": "c02959c0-5e2d-4eb4-e907-7147cc7c6b9f"
      },
      "outputs": [
        {
          "data": {
            "text/plain": [
              "([<matplotlib.patches.Wedge at 0x1e5360b52e0>,\n",
              "  <matplotlib.patches.Wedge at 0x1e5360b5a00>,\n",
              "  <matplotlib.patches.Wedge at 0x1e5360c3160>,\n",
              "  <matplotlib.patches.Wedge at 0x1e5360c3880>,\n",
              "  <matplotlib.patches.Wedge at 0x1e5360c3fa0>],\n",
              " [Text(0.8507215626110558, 0.6973326486753676, ''),\n",
              "  Text(-0.32611344931648134, 1.0505474849691026, ''),\n",
              "  Text(-1.0998053664078908, -0.02069193128747144, ''),\n",
              "  Text(-0.08269436219656089, -1.096887251480709, ''),\n",
              "  Text(0.9758446362287218, -0.5076684409569241, '')],\n",
              " [Text(0.464029943242394, 0.3803632629138369, '21.86'),\n",
              "  Text(-0.17788006326353525, 0.5730259008922377, '15.87'),\n",
              "  Text(-0.5998938362224858, -0.011286507974984419, '25.15'),\n",
              "  Text(-0.045106015743578656, -0.5983021371712958, '21.86'),\n",
              "  Text(0.5322788924883937, -0.2769100587037768, '15.27')])"
            ]
          },
          "execution_count": 7,
          "metadata": {},
          "output_type": "execute_result"
        },
        {
          "data": {
            "image/png": "[encoded data removed]",
            "text/plain": [
              "<Figure size 432x288 with 1 Axes>"
            ]
          },
          "metadata": {},
          "output_type": "display_data"
        }
      ],
      "source": [
        "#piechart\n",
        "\n",
        "plt.pie(d['Diameter'].head(),autopct='%.2f')"
      ]
    },
    {
      "cell_type": "code",
      "execution_count": null,
      "id": "52f54f9d",
      "metadata": {
        "id": "52f54f9d",
        "outputId": "8a1fb7e3-853c-432c-813c-210891a7bb65"
      },
      "outputs": [
        {
          "data": {
            "text/plain": [
              "<AxesSubplot:xlabel='Diameter', ylabel='Density'>"
            ]
          },
          "execution_count": 8,
          "metadata": {},
          "output_type": "execute_result"
        },
        {
          "data": {
            "image/png": "[encoded data removed]",
            "text/plain": [
              "<Figure size 432x288 with 1 Axes>"
            ]
          },
          "metadata": {
            "needs_background": "light"
          },
          "output_type": "display_data"
        }
      ],
      "source": [
        "#distplot\n",
        "\n",
        "sns.distplot(d['Diameter'].head(200))"
      ]
    },
    {
      "cell_type": "markdown",
      "id": "cece5a4b",
      "metadata": {
        "id": "cece5a4b"
      },
      "source": [
        "## ∙ Bi-Variate Analysis"
      ]
    },
    {
      "cell_type": "code",
      "execution_count": null,
      "id": "b7517293",
      "metadata": {
        "id": "b7517293",
        "outputId": "2e9ee32c-1ff8-4821-d386-c92440020e69"
      },
      "outputs": [
        {
          "data": {
            "text/plain": [
              "<matplotlib.collections.PathCollection at 0x1e5365f1ca0>"
            ]
          },
          "execution_count": 9,
          "metadata": {},
          "output_type": "execute_result"
        },
        {
          "data": {
            "image/png": "[encoded data removed]",
            "text/plain": [
              "<Figure size 432x288 with 1 Axes>"
            ]
          },
          "metadata": {
            "needs_background": "light"
          },
          "output_type": "display_data"
        }
      ],
      "source": [
        "#scatter plot\n",
        "\n",
        "plt.scatter(d['Diameter'].head(500),d['Length'].head(500))"
      ]
    },
    {
      "cell_type": "code",
      "execution_count": null,
      "id": "3602cc8d",
      "metadata": {
        "id": "3602cc8d",
        "outputId": "c12f0003-dc98-48e9-c77d-0cbe1828a865"
      },
      "outputs": [
        {
          "data": {
            "text/plain": [
              "Text(0, 0.5, 'Rings')"
            ]
          },
          "execution_count": 10,
          "metadata": {},
          "output_type": "execute_result"
        },
        {
          "data": {
            "image/png": "[encoded data removed]",
            "text/plain": [
              "<Figure size 432x288 with 1 Axes>"
            ]
          },
          "metadata": {
            "needs_background": "light"
          },
          "output_type": "display_data"
        }
      ],
      "source": [
        "#bar plot\n",
        "\n",
        "plt.bar(d['Sex'].head(10),d['Rings'].head(10))\n",
        "\n",
        "#labelling of x,y and result\n",
        "\n",
        "plt.title('Bar plot')\n",
        "plt.xlabel('Diameter')\n",
        "plt.ylabel('Rings')"
      ]
    },
    {
      "cell_type": "code",
      "execution_count": null,
      "id": "1a27eff8",
      "metadata": {
        "id": "1a27eff8",
        "outputId": "3a9ad1df-f9b1-4be2-9c42-079082fec0a9"
      },
      "outputs": [
        {
          "data": {
            "text/plain": [
              "<AxesSubplot:xlabel='Sex', ylabel='Rings'>"
            ]
          },
          "execution_count": 11,
          "metadata": {},
          "output_type": "execute_result"
        },
        {
          "data": {
            "image/png": "[encoded data removed]",
            "text/plain": [
              "<Figure size 432x288 with 1 Axes>"
            ]
          },
          "metadata": {
            "needs_background": "light"
          },
          "output_type": "display_data"
        }
      ],
      "source": [
        "sns.barplot(d['Sex'], d['Rings'])"
      ]
    },
    {
      "cell_type": "code",
      "execution_count": null,
      "id": "6cd23e39",
      "metadata": {
        "id": "6cd23e39",
        "outputId": "a5356254-d2e3-45ef-80d5-dd2b22ab6685"
      },
      "outputs": [
        {
          "data": {
            "text/plain": [
              "<seaborn.axisgrid.JointGrid at 0x1e5367031f0>"
            ]
          },
          "execution_count": 12,
          "metadata": {},
          "output_type": "execute_result"
        },
        {
          "data": {
            "image/png": "[encoded data removed]",
            "text/plain": [
              "<Figure size 432x432 with 3 Axes>"
            ]
          },
          "metadata": {
            "needs_background": "light"
          },
          "output_type": "display_data"
        }
      ],
      "source": [
        "#joint plot\n",
        "\n",
        "sns.jointplot(d['Diameter'].head(50),d['Rings'].head(50))"
      ]
    },
    {
      "cell_type": "code",
      "execution_count": null,
      "id": "04f9eded",
      "metadata": {
        "id": "04f9eded",
        "outputId": "a8e5cb74-7dc9-49ec-bf7d-a5c04ed4dbe7"
      },
      "outputs": [
        {
          "data": {
            "text/plain": [
              "<AxesSubplot:xlabel='Diameter', ylabel='Rings'>"
            ]
          },
          "execution_count": 13,
          "metadata": {},
          "output_type": "execute_result"
        },
        {
          "data": {
            "image/png": "[encoded data removed]",
            "text/plain": [
              "<Figure size 432x288 with 1 Axes>"
            ]
          },
          "metadata": {
            "needs_background": "light"
          },
          "output_type": "display_data"
        }
      ],
      "source": [
        "#bar plot\n",
        "\n",
        "sns.barplot('Diameter','Rings',hue='Sex',data=d.head())"
      ]
    },
    {
      "cell_type": "code",
      "execution_count": null,
      "id": "636aaa59",
      "metadata": {
        "id": "636aaa59",
        "outputId": "5daa7911-8d94-4562-c1db-f2dfba76df0d"
      },
      "outputs": [
        {
          "data": {
            "text/plain": [
              "<AxesSubplot:xlabel='Diameter', ylabel='Rings'>"
            ]
          },
          "execution_count": 14,
          "metadata": {},
          "output_type": "execute_result"
        },
        {
          "data": {
            "image/png": "[encoded data removed]",
            "text/plain": [
              "<Figure size 432x288 with 1 Axes>"
            ]
          },
          "metadata": {
            "needs_background": "light"
          },
          "output_type": "display_data"
        }
      ],
      "source": [
        "sns.lineplot(d['Diameter'].head(),d['Rings'].head())"
      ]
    },
    {
      "cell_type": "markdown",
      "id": "d823d6c7",
      "metadata": {
        "id": "d823d6c7"
      },
      "source": [
        "## ∙ Multi-Variate Analysis"
      ]
    },
    {
      "cell_type": "code",
      "execution_count": null,
      "id": "415aca05",
      "metadata": {
        "id": "415aca05"
      },
      "outputs": [],
      "source": [
        "#boxplot\n",
        "\n",
        "sns.boxplot(d['Sex'].head(10),d['Diameter'].head(10),d['Rings'].head(10))"
      ]
    },
    {
      "cell_type": "code",
      "execution_count": 6,
      "id": "04e12664",
      "metadata": {
        "colab": {
          "base_uri": "https://localhost:8080/",
          "height": 217
        },
        "id": "04e12664",
        "outputId": "eed49d3f-c0d3-451d-de29-2faaeb91af42"
      },
      "outputs": [
        {
          "output_type": "error",
          "ename": "NameError",
          "evalue": "ignored",
          "traceback": [
            "\u001b[0;31m---------------------------------------------------------------------------\u001b[0m",
            "\u001b[0;31mNameError\u001b[0m                                 Traceback (most recent call last)",
            "\u001b[0;32m<ipython-input-6-0b400ac953f9>\u001b[0m in \u001b[0;36m<module>\u001b[0;34m\u001b[0m\n\u001b[1;32m      2\u001b[0m \u001b[0;34m\u001b[0m\u001b[0m\n\u001b[1;32m      3\u001b[0m \u001b[0mfig\u001b[0m\u001b[0;34m=\u001b[0m\u001b[0mplt\u001b[0m\u001b[0;34m.\u001b[0m\u001b[0mfigure\u001b[0m\u001b[0;34m(\u001b[0m\u001b[0mfigsize\u001b[0m\u001b[0;34m=\u001b[0m\u001b[0;34m(\u001b[0m\u001b[0;36m8\u001b[0m\u001b[0;34m,\u001b[0m\u001b[0;36m5\u001b[0m\u001b[0;34m)\u001b[0m\u001b[0;34m)\u001b[0m\u001b[0;34m\u001b[0m\u001b[0;34m\u001b[0m\u001b[0m\n\u001b[0;32m----> 4\u001b[0;31m \u001b[0msns\u001b[0m\u001b[0;34m.\u001b[0m\u001b[0mheatmap\u001b[0m\u001b[0;34m(\u001b[0m\u001b[0md\u001b[0m\u001b[0;34m.\u001b[0m\u001b[0mhead\u001b[0m\u001b[0;34m(\u001b[0m\u001b[0;34m)\u001b[0m\u001b[0;34m.\u001b[0m\u001b[0mcorr\u001b[0m\u001b[0;34m(\u001b[0m\u001b[0;34m)\u001b[0m\u001b[0;34m,\u001b[0m\u001b[0mannot\u001b[0m\u001b[0;34m=\u001b[0m\u001b[0;32mTrue\u001b[0m\u001b[0;34m)\u001b[0m\u001b[0;34m\u001b[0m\u001b[0;34m\u001b[0m\u001b[0m\n\u001b[0m",
            "\u001b[0;31mNameError\u001b[0m: name 'd' is not defined"
          ]
        },
        {
          "output_type": "display_data",
          "data": {
            "text/plain": [
              "<Figure size 576x360 with 0 Axes>"
            ]
          },
          "metadata": {}
        }
      ],
      "source": [
        "#heat map\n",
        "\n",
        "fig=plt.figure(figsize=(8,5))\n",
        "sns.heatmap(d.head().corr(),annot=True)"
      ]
    },
    {
      "cell_type": "code",
      "execution_count": null,
      "id": "ec5f0714",
      "metadata": {
        "id": "ec5f0714"
      },
      "outputs": [],
      "source": [
        "#pair plot\n",
        "\n",
        "sns.pairplot(d.head(),hue='Rings')"
      ]
    },
    {
      "cell_type": "code",
      "execution_count": null,
      "id": "54b4fae4",
      "metadata": {
        "id": "54b4fae4"
      },
      "outputs": [],
      "source": [
        "sns.pairplot(d.head())"
      ]
    },
    {
      "cell_type": "markdown",
      "id": "a64593d4",
      "metadata": {
        "id": "a64593d4"
      },
      "source": [
        "# 3. Perform descriptive statistics on the dataset.\n"
      ]
    },
    {
      "cell_type": "code",
      "execution_count": null,
      "id": "71e06f61",
      "metadata": {
        "id": "71e06f61",
        "outputId": "ee577ef6-fee2-4fa5-f260-7c2d9b85ca29"
      },
      "outputs": [
        {
          "data": {
            "text/html": [
              "<div>\n",
              "<style scoped>\n",
              "    .dataframe tbody tr th:only-of-type {\n",
              "        vertical-align: middle;\n",
              "    }\n",
              "\n",
              "    .dataframe tbody tr th {\n",
              "        vertical-align: top;\n",
              "    }\n",
              "\n",
              "    .dataframe thead th {\n",
              "        text-align: right;\n",
              "    }\n",
              "</style>\n",
              "<table border=\"1\" class=\"dataframe\">\n",
              "  <thead>\n",
              "    <tr style=\"text-align: right;\">\n",
              "      <th></th>\n",
              "      <th>Sex</th>\n",
              "      <th>Length</th>\n",
              "      <th>Diameter</th>\n",
              "      <th>Height</th>\n",
              "      <th>Whole weight</th>\n",
              "      <th>Shucked weight</th>\n",
              "      <th>Viscera weight</th>\n",
              "      <th>Shell weight</th>\n",
              "      <th>Rings</th>\n",
              "    </tr>\n",
              "  </thead>\n",
              "  <tbody>\n",
              "    <tr>\n",
              "      <th>0</th>\n",
              "      <td>M</td>\n",
              "      <td>0.455</td>\n",
              "      <td>0.365</td>\n",
              "      <td>0.095</td>\n",
              "      <td>0.5140</td>\n",
              "      <td>0.2245</td>\n",
              "      <td>0.1010</td>\n",
              "      <td>0.150</td>\n",
              "      <td>15</td>\n",
              "    </tr>\n",
              "    <tr>\n",
              "      <th>1</th>\n",
              "      <td>M</td>\n",
              "      <td>0.350</td>\n",
              "      <td>0.265</td>\n",
              "      <td>0.090</td>\n",
              "      <td>0.2255</td>\n",
              "      <td>0.0995</td>\n",
              "      <td>0.0485</td>\n",
              "      <td>0.070</td>\n",
              "      <td>7</td>\n",
              "    </tr>\n",
              "    <tr>\n",
              "      <th>2</th>\n",
              "      <td>F</td>\n",
              "      <td>0.530</td>\n",
              "      <td>0.420</td>\n",
              "      <td>0.135</td>\n",
              "      <td>0.6770</td>\n",
              "      <td>0.2565</td>\n",
              "      <td>0.1415</td>\n",
              "      <td>0.210</td>\n",
              "      <td>9</td>\n",
              "    </tr>\n",
              "    <tr>\n",
              "      <th>3</th>\n",
              "      <td>M</td>\n",
              "      <td>0.440</td>\n",
              "      <td>0.365</td>\n",
              "      <td>0.125</td>\n",
              "      <td>0.5160</td>\n",
              "      <td>0.2155</td>\n",
              "      <td>0.1140</td>\n",
              "      <td>0.155</td>\n",
              "      <td>10</td>\n",
              "    </tr>\n",
              "    <tr>\n",
              "      <th>4</th>\n",
              "      <td>I</td>\n",
              "      <td>0.330</td>\n",
              "      <td>0.255</td>\n",
              "      <td>0.080</td>\n",
              "      <td>0.2050</td>\n",
              "      <td>0.0895</td>\n",
              "      <td>0.0395</td>\n",
              "      <td>0.055</td>\n",
              "      <td>7</td>\n",
              "    </tr>\n",
              "  </tbody>\n",
              "</table>\n",
              "</div>"
            ],
            "text/plain": [
              "  Sex  Length  Diameter  Height  Whole weight  Shucked weight  Viscera weight  \\\n",
              "0   M   0.455     0.365   0.095        0.5140          0.2245          0.1010   \n",
              "1   M   0.350     0.265   0.090        0.2255          0.0995          0.0485   \n",
              "2   F   0.530     0.420   0.135        0.6770          0.2565          0.1415   \n",
              "3   M   0.440     0.365   0.125        0.5160          0.2155          0.1140   \n",
              "4   I   0.330     0.255   0.080        0.2050          0.0895          0.0395   \n",
              "\n",
              "   Shell weight  Rings  \n",
              "0         0.150     15  \n",
              "1         0.070      7  \n",
              "2         0.210      9  \n",
              "3         0.155     10  \n",
              "4         0.055      7  "
            ]
          },
          "execution_count": 19,
          "metadata": {},
          "output_type": "execute_result"
        }
      ],
      "source": [
        "d.head()"
      ]
    },
    {
      "cell_type": "code",
      "execution_count": null,
      "id": "f423d9c6",
      "metadata": {
        "id": "f423d9c6",
        "outputId": "93305c25-e633-4d94-dde9-27a14a161dff"
      },
      "outputs": [
        {
          "data": {
            "text/html": [
              "<div>\n",
              "<style scoped>\n",
              "    .dataframe tbody tr th:only-of-type {\n",
              "        vertical-align: middle;\n",
              "    }\n",
              "\n",
              "    .dataframe tbody tr th {\n",
              "        vertical-align: top;\n",
              "    }\n",
              "\n",
              "    .dataframe thead th {\n",
              "        text-align: right;\n",
              "    }\n",
              "</style>\n",
              "<table border=\"1\" class=\"dataframe\">\n",
              "  <thead>\n",
              "    <tr style=\"text-align: right;\">\n",
              "      <th></th>\n",
              "      <th>Sex</th>\n",
              "      <th>Length</th>\n",
              "      <th>Diameter</th>\n",
              "      <th>Height</th>\n",
              "      <th>Whole weight</th>\n",
              "      <th>Shucked weight</th>\n",
              "      <th>Viscera weight</th>\n",
              "      <th>Shell weight</th>\n",
              "      <th>Rings</th>\n",
              "    </tr>\n",
              "  </thead>\n",
              "  <tbody>\n",
              "    <tr>\n",
              "      <th>4172</th>\n",
              "      <td>F</td>\n",
              "      <td>0.565</td>\n",
              "      <td>0.450</td>\n",
              "      <td>0.165</td>\n",
              "      <td>0.8870</td>\n",
              "      <td>0.3700</td>\n",
              "      <td>0.2390</td>\n",
              "      <td>0.2490</td>\n",
              "      <td>11</td>\n",
              "    </tr>\n",
              "    <tr>\n",
              "      <th>4173</th>\n",
              "      <td>M</td>\n",
              "      <td>0.590</td>\n",
              "      <td>0.440</td>\n",
              "      <td>0.135</td>\n",
              "      <td>0.9660</td>\n",
              "      <td>0.4390</td>\n",
              "      <td>0.2145</td>\n",
              "      <td>0.2605</td>\n",
              "      <td>10</td>\n",
              "    </tr>\n",
              "    <tr>\n",
              "      <th>4174</th>\n",
              "      <td>M</td>\n",
              "      <td>0.600</td>\n",
              "      <td>0.475</td>\n",
              "      <td>0.205</td>\n",
              "      <td>1.1760</td>\n",
              "      <td>0.5255</td>\n",
              "      <td>0.2875</td>\n",
              "      <td>0.3080</td>\n",
              "      <td>9</td>\n",
              "    </tr>\n",
              "    <tr>\n",
              "      <th>4175</th>\n",
              "      <td>F</td>\n",
              "      <td>0.625</td>\n",
              "      <td>0.485</td>\n",
              "      <td>0.150</td>\n",
              "      <td>1.0945</td>\n",
              "      <td>0.5310</td>\n",
              "      <td>0.2610</td>\n",
              "      <td>0.2960</td>\n",
              "      <td>10</td>\n",
              "    </tr>\n",
              "    <tr>\n",
              "      <th>4176</th>\n",
              "      <td>M</td>\n",
              "      <td>0.710</td>\n",
              "      <td>0.555</td>\n",
              "      <td>0.195</td>\n",
              "      <td>1.9485</td>\n",
              "      <td>0.9455</td>\n",
              "      <td>0.3765</td>\n",
              "      <td>0.4950</td>\n",
              "      <td>12</td>\n",
              "    </tr>\n",
              "  </tbody>\n",
              "</table>\n",
              "</div>"
            ],
            "text/plain": [
              "     Sex  Length  Diameter  Height  Whole weight  Shucked weight  \\\n",
              "4172   F   0.565     0.450   0.165        0.8870          0.3700   \n",
              "4173   M   0.590     0.440   0.135        0.9660          0.4390   \n",
              "4174   M   0.600     0.475   0.205        1.1760          0.5255   \n",
              "4175   F   0.625     0.485   0.150        1.0945          0.5310   \n",
              "4176   M   0.710     0.555   0.195        1.9485          0.9455   \n",
              "\n",
              "      Viscera weight  Shell weight  Rings  \n",
              "4172          0.2390        0.2490     11  \n",
              "4173          0.2145        0.2605     10  \n",
              "4174          0.2875        0.3080      9  \n",
              "4175          0.2610        0.2960     10  \n",
              "4176          0.3765        0.4950     12  "
            ]
          },
          "execution_count": 20,
          "metadata": {},
          "output_type": "execute_result"
        }
      ],
      "source": [
        "d.tail()"
      ]
    },
    {
      "cell_type": "code",
      "execution_count": null,
      "id": "9ec9fe7b",
      "metadata": {
        "id": "9ec9fe7b",
        "outputId": "c773c06b-ba60-410e-f9ef-26101a1cb74a"
      },
      "outputs": [
        {
          "name": "stdout",
          "output_type": "stream",
          "text": [
            "<class 'pandas.core.frame.DataFrame'>\n",
            "RangeIndex: 4177 entries, 0 to 4176\n",
            "Data columns (total 9 columns):\n",
            " #   Column          Non-Null Count  Dtype  \n",
            "---  ------          --------------  -----  \n",
            " 0   Sex             4177 non-null   object \n",
            " 1   Length          4177 non-null   float64\n",
            " 2   Diameter        4177 non-null   float64\n",
            " 3   Height          4177 non-null   float64\n",
            " 4   Whole weight    4177 non-null   float64\n",
            " 5   Shucked weight  4177 non-null   float64\n",
            " 6   Viscera weight  4177 non-null   float64\n",
            " 7   Shell weight    4177 non-null   float64\n",
            " 8   Rings           4177 non-null   int64  \n",
            "dtypes: float64(7), int64(1), object(1)\n",
            "memory usage: 293.8+ KB\n"
          ]
        }
      ],
      "source": [
        "d.info()"
      ]
    },
    {
      "cell_type": "code",
      "execution_count": null,
      "id": "89c40754",
      "metadata": {
        "id": "89c40754",
        "outputId": "403d7a6c-d097-4031-e9ee-34dc15a03f19"
      },
      "outputs": [
        {
          "data": {
            "text/html": [
              "<div>\n",
              "<style scoped>\n",
              "    .dataframe tbody tr th:only-of-type {\n",
              "        vertical-align: middle;\n",
              "    }\n",
              "\n",
              "    .dataframe tbody tr th {\n",
              "        vertical-align: top;\n",
              "    }\n",
              "\n",
              "    .dataframe thead th {\n",
              "        text-align: right;\n",
              "    }\n",
              "</style>\n",
              "<table border=\"1\" class=\"dataframe\">\n",
              "  <thead>\n",
              "    <tr style=\"text-align: right;\">\n",
              "      <th></th>\n",
              "      <th>Length</th>\n",
              "      <th>Diameter</th>\n",
              "      <th>Height</th>\n",
              "      <th>Whole weight</th>\n",
              "      <th>Shucked weight</th>\n",
              "      <th>Viscera weight</th>\n",
              "      <th>Shell weight</th>\n",
              "      <th>Rings</th>\n",
              "    </tr>\n",
              "  </thead>\n",
              "  <tbody>\n",
              "    <tr>\n",
              "      <th>count</th>\n",
              "      <td>4177.000000</td>\n",
              "      <td>4177.000000</td>\n",
              "      <td>4177.000000</td>\n",
              "      <td>4177.000000</td>\n",
              "      <td>4177.000000</td>\n",
              "      <td>4177.000000</td>\n",
              "      <td>4177.000000</td>\n",
              "      <td>4177.000000</td>\n",
              "    </tr>\n",
              "    <tr>\n",
              "      <th>mean</th>\n",
              "      <td>0.523992</td>\n",
              "      <td>0.407881</td>\n",
              "      <td>0.139516</td>\n",
              "      <td>0.828742</td>\n",
              "      <td>0.359367</td>\n",
              "      <td>0.180594</td>\n",
              "      <td>0.238831</td>\n",
              "      <td>9.933684</td>\n",
              "    </tr>\n",
              "    <tr>\n",
              "      <th>std</th>\n",
              "      <td>0.120093</td>\n",
              "      <td>0.099240</td>\n",
              "      <td>0.041827</td>\n",
              "      <td>0.490389</td>\n",
              "      <td>0.221963</td>\n",
              "      <td>0.109614</td>\n",
              "      <td>0.139203</td>\n",
              "      <td>3.224169</td>\n",
              "    </tr>\n",
              "    <tr>\n",
              "      <th>min</th>\n",
              "      <td>0.075000</td>\n",
              "      <td>0.055000</td>\n",
              "      <td>0.000000</td>\n",
              "      <td>0.002000</td>\n",
              "      <td>0.001000</td>\n",
              "      <td>0.000500</td>\n",
              "      <td>0.001500</td>\n",
              "      <td>1.000000</td>\n",
              "    </tr>\n",
              "    <tr>\n",
              "      <th>25%</th>\n",
              "      <td>0.450000</td>\n",
              "      <td>0.350000</td>\n",
              "      <td>0.115000</td>\n",
              "      <td>0.441500</td>\n",
              "      <td>0.186000</td>\n",
              "      <td>0.093500</td>\n",
              "      <td>0.130000</td>\n",
              "      <td>8.000000</td>\n",
              "    </tr>\n",
              "    <tr>\n",
              "      <th>50%</th>\n",
              "      <td>0.545000</td>\n",
              "      <td>0.425000</td>\n",
              "      <td>0.140000</td>\n",
              "      <td>0.799500</td>\n",
              "      <td>0.336000</td>\n",
              "      <td>0.171000</td>\n",
              "      <td>0.234000</td>\n",
              "      <td>9.000000</td>\n",
              "    </tr>\n",
              "    <tr>\n",
              "      <th>75%</th>\n",
              "      <td>0.615000</td>\n",
              "      <td>0.480000</td>\n",
              "      <td>0.165000</td>\n",
              "      <td>1.153000</td>\n",
              "      <td>0.502000</td>\n",
              "      <td>0.253000</td>\n",
              "      <td>0.329000</td>\n",
              "      <td>11.000000</td>\n",
              "    </tr>\n",
              "    <tr>\n",
              "      <th>max</th>\n",
              "      <td>0.815000</td>\n",
              "      <td>0.650000</td>\n",
              "      <td>1.130000</td>\n",
              "      <td>2.825500</td>\n",
              "      <td>1.488000</td>\n",
              "      <td>0.760000</td>\n",
              "      <td>1.005000</td>\n",
              "      <td>29.000000</td>\n",
              "    </tr>\n",
              "  </tbody>\n",
              "</table>\n",
              "</div>"
            ],
            "text/plain": [
              "            Length     Diameter       Height  Whole weight  Shucked weight  \\\n",
              "count  4177.000000  4177.000000  4177.000000   4177.000000     4177.000000   \n",
              "mean      0.523992     0.407881     0.139516      0.828742        0.359367   \n",
              "std       0.120093     0.099240     0.041827      0.490389        0.221963   \n",
              "min       0.075000     0.055000     0.000000      0.002000        0.001000   \n",
              "25%       0.450000     0.350000     0.115000      0.441500        0.186000   \n",
              "50%       0.545000     0.425000     0.140000      0.799500        0.336000   \n",
              "75%       0.615000     0.480000     0.165000      1.153000        0.502000   \n",
              "max       0.815000     0.650000     1.130000      2.825500        1.488000   \n",
              "\n",
              "       Viscera weight  Shell weight        Rings  \n",
              "count     4177.000000   4177.000000  4177.000000  \n",
              "mean         0.180594      0.238831     9.933684  \n",
              "std          0.109614      0.139203     3.224169  \n",
              "min          0.000500      0.001500     1.000000  \n",
              "25%          0.093500      0.130000     8.000000  \n",
              "50%          0.171000      0.234000     9.000000  \n",
              "75%          0.253000      0.329000    11.000000  \n",
              "max          0.760000      1.005000    29.000000  "
            ]
          },
          "execution_count": 22,
          "metadata": {},
          "output_type": "execute_result"
        }
      ],
      "source": [
        "d.describe()"
      ]
    },
    {
      "cell_type": "code",
      "execution_count": null,
      "id": "146a66e7",
      "metadata": {
        "id": "146a66e7",
        "outputId": "6ffd94d9-1c25-4422-9638-deeb670acc3c"
      },
      "outputs": [
        {
          "data": {
            "text/html": [
              "<div>\n",
              "<style scoped>\n",
              "    .dataframe tbody tr th:only-of-type {\n",
              "        vertical-align: middle;\n",
              "    }\n",
              "\n",
              "    .dataframe tbody tr th {\n",
              "        vertical-align: top;\n",
              "    }\n",
              "\n",
              "    .dataframe thead th {\n",
              "        text-align: right;\n",
              "    }\n",
              "</style>\n",
              "<table border=\"1\" class=\"dataframe\">\n",
              "  <thead>\n",
              "    <tr style=\"text-align: right;\">\n",
              "      <th></th>\n",
              "      <th>0</th>\n",
              "      <th>1</th>\n",
              "    </tr>\n",
              "  </thead>\n",
              "  <tbody>\n",
              "    <tr>\n",
              "      <th>Sex</th>\n",
              "      <td>M</td>\n",
              "      <td>NaN</td>\n",
              "    </tr>\n",
              "    <tr>\n",
              "      <th>Length</th>\n",
              "      <td>0.55</td>\n",
              "      <td>0.625</td>\n",
              "    </tr>\n",
              "    <tr>\n",
              "      <th>Diameter</th>\n",
              "      <td>0.45</td>\n",
              "      <td>NaN</td>\n",
              "    </tr>\n",
              "    <tr>\n",
              "      <th>Height</th>\n",
              "      <td>0.15</td>\n",
              "      <td>NaN</td>\n",
              "    </tr>\n",
              "    <tr>\n",
              "      <th>Whole weight</th>\n",
              "      <td>0.2225</td>\n",
              "      <td>NaN</td>\n",
              "    </tr>\n",
              "    <tr>\n",
              "      <th>Shucked weight</th>\n",
              "      <td>0.175</td>\n",
              "      <td>NaN</td>\n",
              "    </tr>\n",
              "    <tr>\n",
              "      <th>Viscera weight</th>\n",
              "      <td>0.1715</td>\n",
              "      <td>NaN</td>\n",
              "    </tr>\n",
              "    <tr>\n",
              "      <th>Shell weight</th>\n",
              "      <td>0.275</td>\n",
              "      <td>NaN</td>\n",
              "    </tr>\n",
              "    <tr>\n",
              "      <th>Rings</th>\n",
              "      <td>9.0</td>\n",
              "      <td>NaN</td>\n",
              "    </tr>\n",
              "  </tbody>\n",
              "</table>\n",
              "</div>"
            ],
            "text/plain": [
              "                     0      1\n",
              "Sex                  M    NaN\n",
              "Length            0.55  0.625\n",
              "Diameter          0.45    NaN\n",
              "Height            0.15    NaN\n",
              "Whole weight    0.2225    NaN\n",
              "Shucked weight   0.175    NaN\n",
              "Viscera weight  0.1715    NaN\n",
              "Shell weight     0.275    NaN\n",
              "Rings              9.0    NaN"
            ]
          },
          "execution_count": 23,
          "metadata": {},
          "output_type": "execute_result"
        }
      ],
      "source": [
        "d.mode().T"
      ]
    },
    {
      "cell_type": "code",
      "execution_count": null,
      "id": "a0825d08",
      "metadata": {
        "id": "a0825d08",
        "outputId": "182a04a3-346e-48fe-bd8f-674430acc491"
      },
      "outputs": [
        {
          "data": {
            "text/plain": [
              "(4177, 9)"
            ]
          },
          "execution_count": 24,
          "metadata": {},
          "output_type": "execute_result"
        }
      ],
      "source": [
        "d.shape"
      ]
    },
    {
      "cell_type": "code",
      "execution_count": null,
      "id": "250dfe0d",
      "metadata": {
        "id": "250dfe0d",
        "outputId": "8ba3d8b5-a92c-4a90-be2c-3b5da6daa9b6"
      },
      "outputs": [
        {
          "data": {
            "text/plain": [
              "Length             0.064621\n",
              "Diameter          -0.045476\n",
              "Height            76.025509\n",
              "Whole weight      -0.023644\n",
              "Shucked weight     0.595124\n",
              "Viscera weight     0.084012\n",
              "Shell weight       0.531926\n",
              "Rings              2.330687\n",
              "dtype: float64"
            ]
          },
          "execution_count": 25,
          "metadata": {},
          "output_type": "execute_result"
        }
      ],
      "source": [
        "d.kurt()"
      ]
    },
    {
      "cell_type": "code",
      "execution_count": null,
      "id": "0c70899d",
      "metadata": {
        "id": "0c70899d",
        "outputId": "3e78a5d1-c890-4d30-d1ae-7b3dbefb74af"
      },
      "outputs": [
        {
          "data": {
            "text/plain": [
              "Length           -0.639873\n",
              "Diameter         -0.609198\n",
              "Height            3.128817\n",
              "Whole weight      0.530959\n",
              "Shucked weight    0.719098\n",
              "Viscera weight    0.591852\n",
              "Shell weight      0.620927\n",
              "Rings             1.114102\n",
              "dtype: float64"
            ]
          },
          "execution_count": 26,
          "metadata": {},
          "output_type": "execute_result"
        }
      ],
      "source": [
        "d.skew()"
      ]
    },
    {
      "cell_type": "code",
      "execution_count": null,
      "id": "f6b011b8",
      "metadata": {
        "id": "f6b011b8",
        "outputId": "8bdf07a9-df5f-4d2e-ddc1-4c758a216bb7"
      },
      "outputs": [
        {
          "data": {
            "text/plain": [
              "Length             0.014422\n",
              "Diameter           0.009849\n",
              "Height             0.001750\n",
              "Whole weight       0.240481\n",
              "Shucked weight     0.049268\n",
              "Viscera weight     0.012015\n",
              "Shell weight       0.019377\n",
              "Rings             10.395266\n",
              "dtype: float64"
            ]
          },
          "execution_count": 27,
          "metadata": {},
          "output_type": "execute_result"
        }
      ],
      "source": [
        "d.var()"
      ]
    },
    {
      "cell_type": "code",
      "execution_count": null,
      "id": "85c8dd5c",
      "metadata": {
        "id": "85c8dd5c",
        "outputId": "203ee87c-9206-436e-b78b-3407c0fe689c"
      },
      "outputs": [
        {
          "data": {
            "text/plain": [
              "Sex                  3\n",
              "Length             134\n",
              "Diameter           111\n",
              "Height              51\n",
              "Whole weight      2429\n",
              "Shucked weight    1515\n",
              "Viscera weight     880\n",
              "Shell weight       926\n",
              "Rings               28\n",
              "dtype: int64"
            ]
          },
          "execution_count": 28,
          "metadata": {},
          "output_type": "execute_result"
        }
      ],
      "source": [
        "d.nunique()"
      ]
    },
    {
      "cell_type": "markdown",
      "id": "9336243b",
      "metadata": {
        "id": "9336243b"
      },
      "source": [
        "# 4. Check for Missing values and deal with them.\n"
      ]
    },
    {
      "cell_type": "code",
      "execution_count": null,
      "id": "862921fd",
      "metadata": {
        "id": "862921fd",
        "outputId": "e05584f5-3f47-4bb8-d839-60bd5f1c9da6"
      },
      "outputs": [
        {
          "data": {
            "text/html": [
              "<div>\n",
              "<style scoped>\n",
              "    .dataframe tbody tr th:only-of-type {\n",
              "        vertical-align: middle;\n",
              "    }\n",
              "\n",
              "    .dataframe tbody tr th {\n",
              "        vertical-align: top;\n",
              "    }\n",
              "\n",
              "    .dataframe thead th {\n",
              "        text-align: right;\n",
              "    }\n",
              "</style>\n",
              "<table border=\"1\" class=\"dataframe\">\n",
              "  <thead>\n",
              "    <tr style=\"text-align: right;\">\n",
              "      <th></th>\n",
              "      <th>Sex</th>\n",
              "      <th>Length</th>\n",
              "      <th>Diameter</th>\n",
              "      <th>Height</th>\n",
              "      <th>Whole weight</th>\n",
              "      <th>Shucked weight</th>\n",
              "      <th>Viscera weight</th>\n",
              "      <th>Shell weight</th>\n",
              "      <th>Rings</th>\n",
              "    </tr>\n",
              "  </thead>\n",
              "  <tbody>\n",
              "    <tr>\n",
              "      <th>0</th>\n",
              "      <td>False</td>\n",
              "      <td>False</td>\n",
              "      <td>False</td>\n",
              "      <td>False</td>\n",
              "      <td>False</td>\n",
              "      <td>False</td>\n",
              "      <td>False</td>\n",
              "      <td>False</td>\n",
              "      <td>False</td>\n",
              "    </tr>\n",
              "    <tr>\n",
              "      <th>1</th>\n",
              "      <td>False</td>\n",
              "      <td>False</td>\n",
              "      <td>False</td>\n",
              "      <td>False</td>\n",
              "      <td>False</td>\n",
              "      <td>False</td>\n",
              "      <td>False</td>\n",
              "      <td>False</td>\n",
              "      <td>False</td>\n",
              "    </tr>\n",
              "    <tr>\n",
              "      <th>2</th>\n",
              "      <td>False</td>\n",
              "      <td>False</td>\n",
              "      <td>False</td>\n",
              "      <td>False</td>\n",
              "      <td>False</td>\n",
              "      <td>False</td>\n",
              "      <td>False</td>\n",
              "      <td>False</td>\n",
              "      <td>False</td>\n",
              "    </tr>\n",
              "    <tr>\n",
              "      <th>3</th>\n",
              "      <td>False</td>\n",
              "      <td>False</td>\n",
              "      <td>False</td>\n",
              "      <td>False</td>\n",
              "      <td>False</td>\n",
              "      <td>False</td>\n",
              "      <td>False</td>\n",
              "      <td>False</td>\n",
              "      <td>False</td>\n",
              "    </tr>\n",
              "    <tr>\n",
              "      <th>4</th>\n",
              "      <td>False</td>\n",
              "      <td>False</td>\n",
              "      <td>False</td>\n",
              "      <td>False</td>\n",
              "      <td>False</td>\n",
              "      <td>False</td>\n",
              "      <td>False</td>\n",
              "      <td>False</td>\n",
              "      <td>False</td>\n",
              "    </tr>\n",
              "    <tr>\n",
              "      <th>...</th>\n",
              "      <td>...</td>\n",
              "      <td>...</td>\n",
              "      <td>...</td>\n",
              "      <td>...</td>\n",
              "      <td>...</td>\n",
              "      <td>...</td>\n",
              "      <td>...</td>\n",
              "      <td>...</td>\n",
              "      <td>...</td>\n",
              "    </tr>\n",
              "    <tr>\n",
              "      <th>4172</th>\n",
              "      <td>False</td>\n",
              "      <td>False</td>\n",
              "      <td>False</td>\n",
              "      <td>False</td>\n",
              "      <td>False</td>\n",
              "      <td>False</td>\n",
              "      <td>False</td>\n",
              "      <td>False</td>\n",
              "      <td>False</td>\n",
              "    </tr>\n",
              "    <tr>\n",
              "      <th>4173</th>\n",
              "      <td>False</td>\n",
              "      <td>False</td>\n",
              "      <td>False</td>\n",
              "      <td>False</td>\n",
              "      <td>False</td>\n",
              "      <td>False</td>\n",
              "      <td>False</td>\n",
              "      <td>False</td>\n",
              "      <td>False</td>\n",
              "    </tr>\n",
              "    <tr>\n",
              "      <th>4174</th>\n",
              "      <td>False</td>\n",
              "      <td>False</td>\n",
              "      <td>False</td>\n",
              "      <td>False</td>\n",
              "      <td>False</td>\n",
              "      <td>False</td>\n",
              "      <td>False</td>\n",
              "      <td>False</td>\n",
              "      <td>False</td>\n",
              "    </tr>\n",
              "    <tr>\n",
              "      <th>4175</th>\n",
              "      <td>False</td>\n",
              "      <td>False</td>\n",
              "      <td>False</td>\n",
              "      <td>False</td>\n",
              "      <td>False</td>\n",
              "      <td>False</td>\n",
              "      <td>False</td>\n",
              "      <td>False</td>\n",
              "      <td>False</td>\n",
              "    </tr>\n",
              "    <tr>\n",
              "      <th>4176</th>\n",
              "      <td>False</td>\n",
              "      <td>False</td>\n",
              "      <td>False</td>\n",
              "      <td>False</td>\n",
              "      <td>False</td>\n",
              "      <td>False</td>\n",
              "      <td>False</td>\n",
              "      <td>False</td>\n",
              "      <td>False</td>\n",
              "    </tr>\n",
              "  </tbody>\n",
              "</table>\n",
              "<p>4177 rows × 9 columns</p>\n",
              "</div>"
            ],
            "text/plain": [
              "        Sex  Length  Diameter  Height  Whole weight  Shucked weight  \\\n",
              "0     False   False     False   False         False           False   \n",
              "1     False   False     False   False         False           False   \n",
              "2     False   False     False   False         False           False   \n",
              "3     False   False     False   False         False           False   \n",
              "4     False   False     False   False         False           False   \n",
              "...     ...     ...       ...     ...           ...             ...   \n",
              "4172  False   False     False   False         False           False   \n",
              "4173  False   False     False   False         False           False   \n",
              "4174  False   False     False   False         False           False   \n",
              "4175  False   False     False   False         False           False   \n",
              "4176  False   False     False   False         False           False   \n",
              "\n",
              "      Viscera weight  Shell weight  Rings  \n",
              "0              False         False  False  \n",
              "1              False         False  False  \n",
              "2              False         False  False  \n",
              "3              False         False  False  \n",
              "4              False         False  False  \n",
              "...              ...           ...    ...  \n",
              "4172           False         False  False  \n",
              "4173           False         False  False  \n",
              "4174           False         False  False  \n",
              "4175           False         False  False  \n",
              "4176           False         False  False  \n",
              "\n",
              "[4177 rows x 9 columns]"
            ]
          },
          "execution_count": 30,
          "metadata": {},
          "output_type": "execute_result"
        }
      ],
      "source": [
        "#finding missing values\n",
        "\n",
        "d.isna()"
      ]
    },
    {
      "cell_type": "code",
      "execution_count": null,
      "id": "e977ce87",
      "metadata": {
        "id": "e977ce87",
        "outputId": "fbd86230-1b65-449a-b095-e4482daedc9c"
      },
      "outputs": [
        {
          "data": {
            "text/plain": [
              "Sex               False\n",
              "Length            False\n",
              "Diameter          False\n",
              "Height            False\n",
              "Whole weight      False\n",
              "Shucked weight    False\n",
              "Viscera weight    False\n",
              "Shell weight      False\n",
              "Rings             False\n",
              "dtype: bool"
            ]
          },
          "execution_count": 31,
          "metadata": {},
          "output_type": "execute_result"
        }
      ],
      "source": [
        "d.isna().any()"
      ]
    },
    {
      "cell_type": "code",
      "execution_count": null,
      "id": "621fc8c4",
      "metadata": {
        "id": "621fc8c4",
        "outputId": "99154a4f-27ea-4768-e83c-1c16ea9c243c"
      },
      "outputs": [
        {
          "data": {
            "text/plain": [
              "Sex               0\n",
              "Length            0\n",
              "Diameter          0\n",
              "Height            0\n",
              "Whole weight      0\n",
              "Shucked weight    0\n",
              "Viscera weight    0\n",
              "Shell weight      0\n",
              "Rings             0\n",
              "dtype: int64"
            ]
          },
          "execution_count": 32,
          "metadata": {},
          "output_type": "execute_result"
        }
      ],
      "source": [
        "d.isna().sum()"
      ]
    },
    {
      "cell_type": "code",
      "execution_count": null,
      "id": "d59c956a",
      "metadata": {
        "id": "d59c956a",
        "outputId": "dc0c1da9-45ae-4b77-a28d-b297bbbe4246"
      },
      "outputs": [
        {
          "data": {
            "text/plain": [
              "0"
            ]
          },
          "execution_count": 33,
          "metadata": {},
          "output_type": "execute_result"
        }
      ],
      "source": [
        "d.isna().any().sum()\n",
        "#no missing values"
      ]
    },
    {
      "cell_type": "markdown",
      "id": "47635590",
      "metadata": {
        "id": "47635590"
      },
      "source": [
        "# 5. Find the outliers and replace them outliers"
      ]
    },
    {
      "cell_type": "code",
      "execution_count": null,
      "id": "5c58a2c5",
      "metadata": {
        "id": "5c58a2c5",
        "outputId": "490d8a8a-f4d5-426c-f349-a7d1f2bdb630"
      },
      "outputs": [
        {
          "data": {
            "text/plain": [
              "<AxesSubplot:xlabel='Diameter'>"
            ]
          },
          "execution_count": 34,
          "metadata": {},
          "output_type": "execute_result"
        },
        {
          "data": {
            "image/png": "[encoded data removed]",
            "text/plain": [
              "<Figure size 432x288 with 1 Axes>"
            ]
          },
          "metadata": {
            "needs_background": "light"
          },
          "output_type": "display_data"
        }
      ],
      "source": [
        "#finding outliers\n",
        "\n",
        "sns.boxplot(d['Diameter'])"
      ]
    },
    {
      "cell_type": "code",
      "execution_count": null,
      "id": "27583230",
      "metadata": {
        "id": "27583230",
        "outputId": "c60907f2-070e-45bd-c84f-e678abe9802c"
      },
      "outputs": [
        {
          "data": {
            "text/html": [
              "<div>\n",
              "<style scoped>\n",
              "    .dataframe tbody tr th:only-of-type {\n",
              "        vertical-align: middle;\n",
              "    }\n",
              "\n",
              "    .dataframe tbody tr th {\n",
              "        vertical-align: top;\n",
              "    }\n",
              "\n",
              "    .dataframe thead th {\n",
              "        text-align: right;\n",
              "    }\n",
              "</style>\n",
              "<table border=\"1\" class=\"dataframe\">\n",
              "  <thead>\n",
              "    <tr style=\"text-align: right;\">\n",
              "      <th></th>\n",
              "      <th>Length</th>\n",
              "      <th>Diameter</th>\n",
              "      <th>Height</th>\n",
              "      <th>Whole weight</th>\n",
              "      <th>Shucked weight</th>\n",
              "      <th>Viscera weight</th>\n",
              "      <th>Shell weight</th>\n",
              "      <th>Rings</th>\n",
              "    </tr>\n",
              "  </thead>\n",
              "  <tbody>\n",
              "    <tr>\n",
              "      <th>0.25</th>\n",
              "      <td>0.450</td>\n",
              "      <td>0.35</td>\n",
              "      <td>0.115</td>\n",
              "      <td>0.4415</td>\n",
              "      <td>0.186</td>\n",
              "      <td>0.0935</td>\n",
              "      <td>0.130</td>\n",
              "      <td>8.0</td>\n",
              "    </tr>\n",
              "    <tr>\n",
              "      <th>0.75</th>\n",
              "      <td>0.615</td>\n",
              "      <td>0.48</td>\n",
              "      <td>0.165</td>\n",
              "      <td>1.1530</td>\n",
              "      <td>0.502</td>\n",
              "      <td>0.2530</td>\n",
              "      <td>0.329</td>\n",
              "      <td>11.0</td>\n",
              "    </tr>\n",
              "  </tbody>\n",
              "</table>\n",
              "</div>"
            ],
            "text/plain": [
              "      Length  Diameter  Height  Whole weight  Shucked weight  Viscera weight  \\\n",
              "0.25   0.450      0.35   0.115        0.4415           0.186          0.0935   \n",
              "0.75   0.615      0.48   0.165        1.1530           0.502          0.2530   \n",
              "\n",
              "      Shell weight  Rings  \n",
              "0.25         0.130    8.0  \n",
              "0.75         0.329   11.0  "
            ]
          },
          "execution_count": 35,
          "metadata": {},
          "output_type": "execute_result"
        }
      ],
      "source": [
        "#handling outliers\n",
        "\n",
        "qnt=d.quantile(q=[0.25,0.75])\n",
        "qnt"
      ]
    },
    {
      "cell_type": "code",
      "execution_count": null,
      "id": "c96b0066",
      "metadata": {
        "id": "c96b0066",
        "outputId": "aa707aad-07b8-4b42-d469-49d2243e5599"
      },
      "outputs": [
        {
          "data": {
            "text/plain": [
              "Length            0.1650\n",
              "Diameter          0.1300\n",
              "Height            0.0500\n",
              "Whole weight      0.7115\n",
              "Shucked weight    0.3160\n",
              "Viscera weight    0.1595\n",
              "Shell weight      0.1990\n",
              "Rings             3.0000\n",
              "dtype: float64"
            ]
          },
          "execution_count": 36,
          "metadata": {},
          "output_type": "execute_result"
        }
      ],
      "source": [
        "iqr=qnt.loc[0.75]-qnt.loc[0.25]\n",
        "\n",
        "iqr"
      ]
    },
    {
      "cell_type": "code",
      "execution_count": null,
      "id": "b8eed0f9",
      "metadata": {
        "id": "b8eed0f9",
        "outputId": "372ed8b2-3f6d-4ab9-d202-9c4f8f0d552e"
      },
      "outputs": [
        {
          "data": {
            "text/plain": [
              "Length            0.20250\n",
              "Diameter          0.15500\n",
              "Height            0.04000\n",
              "Whole weight     -0.62575\n",
              "Shucked weight   -0.28800\n",
              "Viscera weight   -0.14575\n",
              "Shell weight     -0.16850\n",
              "Rings             3.50000\n",
              "dtype: float64"
            ]
          },
          "execution_count": 37,
          "metadata": {},
          "output_type": "execute_result"
        }
      ],
      "source": [
        "lower=qnt.loc[0.25]-(1.5*iqr)\n",
        "lower"
      ]
    },
    {
      "cell_type": "code",
      "execution_count": null,
      "id": "c7f2128d",
      "metadata": {
        "id": "c7f2128d",
        "outputId": "743dd66b-0465-4908-9c82-6bf922a35f92"
      },
      "outputs": [
        {
          "data": {
            "text/plain": [
              "Length             0.86250\n",
              "Diameter           0.67500\n",
              "Height             0.24000\n",
              "Whole weight       2.22025\n",
              "Shucked weight     0.97600\n",
              "Viscera weight     0.49225\n",
              "Shell weight       0.62750\n",
              "Rings             15.50000\n",
              "dtype: float64"
            ]
          },
          "execution_count": 38,
          "metadata": {},
          "output_type": "execute_result"
        }
      ],
      "source": [
        "upper=qnt.loc[0.75]+(1.5*iqr)\n",
        "upper"
      ]
    },
    {
      "cell_type": "code",
      "execution_count": null,
      "id": "e467df61",
      "metadata": {
        "id": "e467df61",
        "outputId": "fd167471-d4eb-4e63-f882-22e2d3a781fb"
      },
      "outputs": [
        {
          "data": {
            "text/plain": [
              "<AxesSubplot:xlabel='Diameter'>"
            ]
          },
          "execution_count": 39,
          "metadata": {},
          "output_type": "execute_result"
        },
        {
          "data": {
            "image/png": "[encoded data removed]",
            "text/plain": [
              "<Figure size 432x288 with 1 Axes>"
            ]
          },
          "metadata": {
            "needs_background": "light"
          },
          "output_type": "display_data"
        }
      ],
      "source": [
        "# replacing outliers\n",
        "\n",
        "##Diameter\n",
        "d['Diameter']=np.where(d['Diameter']<0.155,0.4078,d['Diameter'])\n",
        "sns.boxplot(d['Diameter'])"
      ]
    },
    {
      "cell_type": "code",
      "execution_count": null,
      "id": "96151847",
      "metadata": {
        "id": "96151847",
        "outputId": "5e573da3-150d-46c7-c972-38990969365e"
      },
      "outputs": [
        {
          "data": {
            "text/plain": [
              "<AxesSubplot:xlabel='Length'>"
            ]
          },
          "execution_count": 40,
          "metadata": {},
          "output_type": "execute_result"
        },
        {
          "data": {
            "image/png": "[encoded data removed]",
            "text/plain": [
              "<Figure size 432x288 with 1 Axes>"
            ]
          },
          "metadata": {
            "needs_background": "light"
          },
          "output_type": "display_data"
        }
      ],
      "source": [
        "## Length\n",
        "\n",
        "sns.boxplot(d['Length'])"
      ]
    },
    {
      "cell_type": "code",
      "execution_count": null,
      "id": "3914fb42",
      "metadata": {
        "id": "3914fb42"
      },
      "outputs": [],
      "source": [
        "d['Length']=np.where(d['Length']<0.23,0.52, d['Length'])"
      ]
    },
    {
      "cell_type": "code",
      "execution_count": null,
      "id": "fbacf562",
      "metadata": {
        "id": "fbacf562",
        "outputId": "6af710b8-eef5-4a27-8e22-9210dff4332a"
      },
      "outputs": [
        {
          "data": {
            "text/plain": [
              "<AxesSubplot:xlabel='Length'>"
            ]
          },
          "execution_count": 42,
          "metadata": {},
          "output_type": "execute_result"
        },
        {
          "data": {
            "image/png": "[encoded data removed]",
            "text/plain": [
              "<Figure size 432x288 with 1 Axes>"
            ]
          },
          "metadata": {
            "needs_background": "light"
          },
          "output_type": "display_data"
        }
      ],
      "source": [
        "sns.boxplot(d['Length'])"
      ]
    },
    {
      "cell_type": "code",
      "execution_count": null,
      "id": "efd44904",
      "metadata": {
        "id": "efd44904",
        "outputId": "61d1322e-6792-4d52-891f-8cac7645dbe7"
      },
      "outputs": [
        {
          "data": {
            "text/plain": [
              "<AxesSubplot:xlabel='Height'>"
            ]
          },
          "execution_count": 43,
          "metadata": {},
          "output_type": "execute_result"
        },
        {
          "data": {
            "image/png": "[encoded data removed]",
            "text/plain": [
              "<Figure size 432x288 with 1 Axes>"
            ]
          },
          "metadata": {
            "needs_background": "light"
          },
          "output_type": "display_data"
        }
      ],
      "source": [
        "## Height\n",
        "\n",
        "sns.boxplot(d['Height'])"
      ]
    },
    {
      "cell_type": "code",
      "execution_count": null,
      "id": "42b5d29f",
      "metadata": {
        "id": "42b5d29f"
      },
      "outputs": [],
      "source": [
        "d['Height']=np.where(d['Height']<0.04,0.139, d['Height'])\n",
        "d['Height']=np.where(d['Height']>0.23,0.139, d['Height'])"
      ]
    },
    {
      "cell_type": "code",
      "execution_count": null,
      "id": "e60a5324",
      "metadata": {
        "id": "e60a5324",
        "outputId": "e4e070f9-e6cb-4a48-c2f2-a8619bde800e"
      },
      "outputs": [
        {
          "data": {
            "text/plain": [
              "<AxesSubplot:xlabel='Height'>"
            ]
          },
          "execution_count": 45,
          "metadata": {},
          "output_type": "execute_result"
        },
        {
          "data": {
            "image/png": "[encoded data removed]",
            "text/plain": [
              "<Figure size 432x288 with 1 Axes>"
            ]
          },
          "metadata": {
            "needs_background": "light"
          },
          "output_type": "display_data"
        }
      ],
      "source": [
        "sns.boxplot(d['Height'])"
      ]
    },
    {
      "cell_type": "code",
      "execution_count": null,
      "id": "c443eaba",
      "metadata": {
        "id": "c443eaba",
        "outputId": "cfd8b2fa-a51e-404a-8db3-62b479ccd048"
      },
      "outputs": [
        {
          "data": {
            "text/plain": [
              "<AxesSubplot:xlabel='Whole weight'>"
            ]
          },
          "execution_count": 46,
          "metadata": {},
          "output_type": "execute_result"
        },
        {
          "data": {
            "image/png": "[encoded data removed]",
            "text/plain": [
              "<Figure size 432x288 with 1 Axes>"
            ]
          },
          "metadata": {
            "needs_background": "light"
          },
          "output_type": "display_data"
        }
      ],
      "source": [
        "## Whole weight\n",
        "\n",
        "sns.boxplot(d['Whole weight'])"
      ]
    },
    {
      "cell_type": "code",
      "execution_count": null,
      "id": "558e6285",
      "metadata": {
        "id": "558e6285"
      },
      "outputs": [],
      "source": [
        "d['Whole weight']=np.where(d['Whole weight']>0.9,0.82, d['Whole weight'])"
      ]
    },
    {
      "cell_type": "code",
      "execution_count": null,
      "id": "27d320ed",
      "metadata": {
        "id": "27d320ed",
        "outputId": "397a20c0-ea2f-4af2-9fbb-b65582b5cdd7"
      },
      "outputs": [
        {
          "data": {
            "text/plain": [
              "<AxesSubplot:xlabel='Whole weight'>"
            ]
          },
          "execution_count": 48,
          "metadata": {},
          "output_type": "execute_result"
        },
        {
          "data": {
            "image/png": "[encoded data removed]",
            "text/plain": [
              "<Figure size 432x288 with 1 Axes>"
            ]
          },
          "metadata": {
            "needs_background": "light"
          },
          "output_type": "display_data"
        }
      ],
      "source": [
        "sns.boxplot(d['Whole weight'])"
      ]
    },
    {
      "cell_type": "code",
      "execution_count": null,
      "id": "bb66be26",
      "metadata": {
        "id": "bb66be26",
        "outputId": "65d79b44-be4a-4843-c1cd-28556af6bd12"
      },
      "outputs": [
        {
          "data": {
            "text/plain": [
              "<AxesSubplot:xlabel='Shucked weight'>"
            ]
          },
          "execution_count": 49,
          "metadata": {},
          "output_type": "execute_result"
        },
        {
          "data": {
            "image/png": "[encoded data removed]",
            "text/plain": [
              "<Figure size 432x288 with 1 Axes>"
            ]
          },
          "metadata": {
            "needs_background": "light"
          },
          "output_type": "display_data"
        }
      ],
      "source": [
        "## Shucked weight\n",
        "\n",
        "sns.boxplot(d['Shucked weight'])"
      ]
    },
    {
      "cell_type": "code",
      "execution_count": null,
      "id": "94b2d6c6",
      "metadata": {
        "id": "94b2d6c6"
      },
      "outputs": [],
      "source": [
        "d['Shucked weight']=np.where(d['Shucked weight']>0.93,0.35, d['Shucked weight'])"
      ]
    },
    {
      "cell_type": "code",
      "execution_count": null,
      "id": "70a1fad4",
      "metadata": {
        "id": "70a1fad4",
        "outputId": "a023b153-0ffd-490e-970e-fcbe6d201018"
      },
      "outputs": [
        {
          "data": {
            "text/plain": [
              "<AxesSubplot:xlabel='Shucked weight'>"
            ]
          },
          "execution_count": 51,
          "metadata": {},
          "output_type": "execute_result"
        },
        {
          "data": {
            "image/png": "[encoded data removed]",
            "text/plain": [
              "<Figure size 432x288 with 1 Axes>"
            ]
          },
          "metadata": {
            "needs_background": "light"
          },
          "output_type": "display_data"
        }
      ],
      "source": [
        "sns.boxplot(d['Shucked weight'])"
      ]
    },
    {
      "cell_type": "code",
      "execution_count": null,
      "id": "7f15f21c",
      "metadata": {
        "id": "7f15f21c",
        "outputId": "80ebd07a-cdb1-48da-a036-b01d2c1fc545"
      },
      "outputs": [
        {
          "data": {
            "text/plain": [
              "<AxesSubplot:xlabel='Viscera weight'>"
            ]
          },
          "execution_count": 52,
          "metadata": {},
          "output_type": "execute_result"
        },
        {
          "data": {
            "image/png": "[encoded data removed]",
            "text/plain": [
              "<Figure size 432x288 with 1 Axes>"
            ]
          },
          "metadata": {
            "needs_background": "light"
          },
          "output_type": "display_data"
        }
      ],
      "source": [
        "## Viscera weight\n",
        "\n",
        "sns.boxplot(d['Viscera weight'])"
      ]
    },
    {
      "cell_type": "code",
      "execution_count": null,
      "id": "3f868602",
      "metadata": {
        "id": "3f868602"
      },
      "outputs": [],
      "source": [
        "d['Viscera weight']=np.where(d['Viscera weight']>0.46,0.18, d['Viscera weight'])"
      ]
    },
    {
      "cell_type": "code",
      "execution_count": null,
      "id": "a6dd1e60",
      "metadata": {
        "id": "a6dd1e60",
        "outputId": "131b7e6d-7efb-4a0e-9619-80668c6755b3"
      },
      "outputs": [
        {
          "data": {
            "text/plain": [
              "<AxesSubplot:xlabel='Viscera weight'>"
            ]
          },
          "execution_count": 54,
          "metadata": {},
          "output_type": "execute_result"
        },
        {
          "data": {
            "image/png": "[encoded data removed]",
            "text/plain": [
              "<Figure size 432x288 with 1 Axes>"
            ]
          },
          "metadata": {
            "needs_background": "light"
          },
          "output_type": "display_data"
        }
      ],
      "source": [
        "sns.boxplot(d['Viscera weight'])"
      ]
    },
    {
      "cell_type": "code",
      "execution_count": null,
      "id": "b568101d",
      "metadata": {
        "id": "b568101d",
        "outputId": "ba330b93-e6ff-481d-bfd0-54a722f5f41b"
      },
      "outputs": [
        {
          "data": {
            "text/plain": [
              "<AxesSubplot:xlabel='Shell weight'>"
            ]
          },
          "execution_count": 55,
          "metadata": {},
          "output_type": "execute_result"
        },
        {
          "data": {
            "image/png": "[encoded data removed]",
            "text/plain": [
              "<Figure size 432x288 with 1 Axes>"
            ]
          },
          "metadata": {
            "needs_background": "light"
          },
          "output_type": "display_data"
        }
      ],
      "source": [
        "## Shell weight\n",
        "\n",
        "sns.boxplot(d['Shell weight'])"
      ]
    },
    {
      "cell_type": "code",
      "execution_count": null,
      "id": "c39931b6",
      "metadata": {
        "id": "c39931b6"
      },
      "outputs": [],
      "source": [
        "d['Shell weight']=np.where(d['Shell weight']>0.61,0.2388, d['Shell weight'])"
      ]
    },
    {
      "cell_type": "code",
      "execution_count": null,
      "id": "3f7a79b3",
      "metadata": {
        "id": "3f7a79b3",
        "outputId": "f0784013-357c-49a2-c3b0-ae897ecfb035"
      },
      "outputs": [
        {
          "data": {
            "text/plain": [
              "<AxesSubplot:xlabel='Shell weight'>"
            ]
          },
          "execution_count": 57,
          "metadata": {},
          "output_type": "execute_result"
        },
        {
          "data": {
            "image/png": "[encoded data removed]",
            "text/plain": [
              "<Figure size 432x288 with 1 Axes>"
            ]
          },
          "metadata": {
            "needs_background": "light"
          },
          "output_type": "display_data"
        }
      ],
      "source": [
        "sns.boxplot(d['Shell weight'])"
      ]
    },
    {
      "cell_type": "markdown",
      "id": "d12be01d",
      "metadata": {
        "id": "d12be01d"
      },
      "source": [
        "# 6. Check for Categorical columns and perform encoding."
      ]
    },
    {
      "cell_type": "code",
      "execution_count": null,
      "id": "eb8d8133",
      "metadata": {
        "id": "eb8d8133",
        "outputId": "34fab841-0b9d-4152-f298-b0beedd65bf9"
      },
      "outputs": [
        {
          "data": {
            "text/html": [
              "<div>\n",
              "<style scoped>\n",
              "    .dataframe tbody tr th:only-of-type {\n",
              "        vertical-align: middle;\n",
              "    }\n",
              "\n",
              "    .dataframe tbody tr th {\n",
              "        vertical-align: top;\n",
              "    }\n",
              "\n",
              "    .dataframe thead th {\n",
              "        text-align: right;\n",
              "    }\n",
              "</style>\n",
              "<table border=\"1\" class=\"dataframe\">\n",
              "  <thead>\n",
              "    <tr style=\"text-align: right;\">\n",
              "      <th></th>\n",
              "      <th>Sex</th>\n",
              "      <th>Length</th>\n",
              "      <th>Diameter</th>\n",
              "      <th>Height</th>\n",
              "      <th>Whole weight</th>\n",
              "      <th>Shucked weight</th>\n",
              "      <th>Viscera weight</th>\n",
              "      <th>Shell weight</th>\n",
              "      <th>Rings</th>\n",
              "    </tr>\n",
              "  </thead>\n",
              "  <tbody>\n",
              "    <tr>\n",
              "      <th>0</th>\n",
              "      <td>1</td>\n",
              "      <td>0.455</td>\n",
              "      <td>0.365</td>\n",
              "      <td>0.095</td>\n",
              "      <td>0.5140</td>\n",
              "      <td>0.2245</td>\n",
              "      <td>0.1010</td>\n",
              "      <td>0.1500</td>\n",
              "      <td>15</td>\n",
              "    </tr>\n",
              "    <tr>\n",
              "      <th>1</th>\n",
              "      <td>1</td>\n",
              "      <td>0.350</td>\n",
              "      <td>0.265</td>\n",
              "      <td>0.090</td>\n",
              "      <td>0.2255</td>\n",
              "      <td>0.0995</td>\n",
              "      <td>0.0485</td>\n",
              "      <td>0.0700</td>\n",
              "      <td>7</td>\n",
              "    </tr>\n",
              "    <tr>\n",
              "      <th>2</th>\n",
              "      <td>0</td>\n",
              "      <td>0.530</td>\n",
              "      <td>0.420</td>\n",
              "      <td>0.135</td>\n",
              "      <td>0.6770</td>\n",
              "      <td>0.2565</td>\n",
              "      <td>0.1415</td>\n",
              "      <td>0.2100</td>\n",
              "      <td>9</td>\n",
              "    </tr>\n",
              "    <tr>\n",
              "      <th>3</th>\n",
              "      <td>1</td>\n",
              "      <td>0.440</td>\n",
              "      <td>0.365</td>\n",
              "      <td>0.125</td>\n",
              "      <td>0.5160</td>\n",
              "      <td>0.2155</td>\n",
              "      <td>0.1140</td>\n",
              "      <td>0.1550</td>\n",
              "      <td>10</td>\n",
              "    </tr>\n",
              "    <tr>\n",
              "      <th>4</th>\n",
              "      <td>2</td>\n",
              "      <td>0.330</td>\n",
              "      <td>0.255</td>\n",
              "      <td>0.080</td>\n",
              "      <td>0.2050</td>\n",
              "      <td>0.0895</td>\n",
              "      <td>0.0395</td>\n",
              "      <td>0.0550</td>\n",
              "      <td>7</td>\n",
              "    </tr>\n",
              "    <tr>\n",
              "      <th>...</th>\n",
              "      <td>...</td>\n",
              "      <td>...</td>\n",
              "      <td>...</td>\n",
              "      <td>...</td>\n",
              "      <td>...</td>\n",
              "      <td>...</td>\n",
              "      <td>...</td>\n",
              "      <td>...</td>\n",
              "      <td>...</td>\n",
              "    </tr>\n",
              "    <tr>\n",
              "      <th>4172</th>\n",
              "      <td>0</td>\n",
              "      <td>0.565</td>\n",
              "      <td>0.450</td>\n",
              "      <td>0.165</td>\n",
              "      <td>0.8870</td>\n",
              "      <td>0.3700</td>\n",
              "      <td>0.2390</td>\n",
              "      <td>0.2490</td>\n",
              "      <td>11</td>\n",
              "    </tr>\n",
              "    <tr>\n",
              "      <th>4173</th>\n",
              "      <td>1</td>\n",
              "      <td>0.590</td>\n",
              "      <td>0.440</td>\n",
              "      <td>0.135</td>\n",
              "      <td>0.8200</td>\n",
              "      <td>0.4390</td>\n",
              "      <td>0.2145</td>\n",
              "      <td>0.2605</td>\n",
              "      <td>10</td>\n",
              "    </tr>\n",
              "    <tr>\n",
              "      <th>4174</th>\n",
              "      <td>1</td>\n",
              "      <td>0.600</td>\n",
              "      <td>0.475</td>\n",
              "      <td>0.205</td>\n",
              "      <td>0.8200</td>\n",
              "      <td>0.5255</td>\n",
              "      <td>0.2875</td>\n",
              "      <td>0.3080</td>\n",
              "      <td>9</td>\n",
              "    </tr>\n",
              "    <tr>\n",
              "      <th>4175</th>\n",
              "      <td>0</td>\n",
              "      <td>0.625</td>\n",
              "      <td>0.485</td>\n",
              "      <td>0.150</td>\n",
              "      <td>0.8200</td>\n",
              "      <td>0.5310</td>\n",
              "      <td>0.2610</td>\n",
              "      <td>0.2960</td>\n",
              "      <td>10</td>\n",
              "    </tr>\n",
              "    <tr>\n",
              "      <th>4176</th>\n",
              "      <td>1</td>\n",
              "      <td>0.710</td>\n",
              "      <td>0.555</td>\n",
              "      <td>0.195</td>\n",
              "      <td>0.8200</td>\n",
              "      <td>0.3500</td>\n",
              "      <td>0.3765</td>\n",
              "      <td>0.4950</td>\n",
              "      <td>12</td>\n",
              "    </tr>\n",
              "  </tbody>\n",
              "</table>\n",
              "<p>4177 rows × 9 columns</p>\n",
              "</div>"
            ],
            "text/plain": [
              "      Sex  Length  Diameter  Height  Whole weight  Shucked weight  \\\n",
              "0       1   0.455     0.365   0.095        0.5140          0.2245   \n",
              "1       1   0.350     0.265   0.090        0.2255          0.0995   \n",
              "2       0   0.530     0.420   0.135        0.6770          0.2565   \n",
              "3       1   0.440     0.365   0.125        0.5160          0.2155   \n",
              "4       2   0.330     0.255   0.080        0.2050          0.0895   \n",
              "...   ...     ...       ...     ...           ...             ...   \n",
              "4172    0   0.565     0.450   0.165        0.8870          0.3700   \n",
              "4173    1   0.590     0.440   0.135        0.8200          0.4390   \n",
              "4174    1   0.600     0.475   0.205        0.8200          0.5255   \n",
              "4175    0   0.625     0.485   0.150        0.8200          0.5310   \n",
              "4176    1   0.710     0.555   0.195        0.8200          0.3500   \n",
              "\n",
              "      Viscera weight  Shell weight  Rings  \n",
              "0             0.1010        0.1500     15  \n",
              "1             0.0485        0.0700      7  \n",
              "2             0.1415        0.2100      9  \n",
              "3             0.1140        0.1550     10  \n",
              "4             0.0395        0.0550      7  \n",
              "...              ...           ...    ...  \n",
              "4172          0.2390        0.2490     11  \n",
              "4173          0.2145        0.2605     10  \n",
              "4174          0.2875        0.3080      9  \n",
              "4175          0.2610        0.2960     10  \n",
              "4176          0.3765        0.4950     12  \n",
              "\n",
              "[4177 rows x 9 columns]"
            ]
          },
          "execution_count": 58,
          "metadata": {},
          "output_type": "execute_result"
        }
      ],
      "source": [
        "#one hot encoding\n",
        "\n",
        "d['Sex'].replace({'M':1,'F':0,'I':2},inplace=True)\n",
        "d"
      ]
    },
    {
      "cell_type": "markdown",
      "id": "b2ac0850",
      "metadata": {
        "id": "b2ac0850"
      },
      "source": [
        "# 7. Split the data into dependent and independent variables."
      ]
    },
    {
      "cell_type": "code",
      "execution_count": null,
      "id": "a1283abd",
      "metadata": {
        "id": "a1283abd",
        "outputId": "0ab9f9de-f727-4f6d-b989-854f488375f5"
      },
      "outputs": [
        {
          "data": {
            "text/html": [
              "<div>\n",
              "<style scoped>\n",
              "    .dataframe tbody tr th:only-of-type {\n",
              "        vertical-align: middle;\n",
              "    }\n",
              "\n",
              "    .dataframe tbody tr th {\n",
              "        vertical-align: top;\n",
              "    }\n",
              "\n",
              "    .dataframe thead th {\n",
              "        text-align: right;\n",
              "    }\n",
              "</style>\n",
              "<table border=\"1\" class=\"dataframe\">\n",
              "  <thead>\n",
              "    <tr style=\"text-align: right;\">\n",
              "      <th></th>\n",
              "      <th>Sex</th>\n",
              "      <th>Length</th>\n",
              "      <th>Diameter</th>\n",
              "      <th>Height</th>\n",
              "      <th>Whole weight</th>\n",
              "      <th>Shucked weight</th>\n",
              "      <th>Viscera weight</th>\n",
              "      <th>Shell weight</th>\n",
              "    </tr>\n",
              "  </thead>\n",
              "  <tbody>\n",
              "    <tr>\n",
              "      <th>0</th>\n",
              "      <td>1</td>\n",
              "      <td>0.455</td>\n",
              "      <td>0.365</td>\n",
              "      <td>0.095</td>\n",
              "      <td>0.5140</td>\n",
              "      <td>0.2245</td>\n",
              "      <td>0.1010</td>\n",
              "      <td>0.1500</td>\n",
              "    </tr>\n",
              "    <tr>\n",
              "      <th>1</th>\n",
              "      <td>1</td>\n",
              "      <td>0.350</td>\n",
              "      <td>0.265</td>\n",
              "      <td>0.090</td>\n",
              "      <td>0.2255</td>\n",
              "      <td>0.0995</td>\n",
              "      <td>0.0485</td>\n",
              "      <td>0.0700</td>\n",
              "    </tr>\n",
              "    <tr>\n",
              "      <th>2</th>\n",
              "      <td>0</td>\n",
              "      <td>0.530</td>\n",
              "      <td>0.420</td>\n",
              "      <td>0.135</td>\n",
              "      <td>0.6770</td>\n",
              "      <td>0.2565</td>\n",
              "      <td>0.1415</td>\n",
              "      <td>0.2100</td>\n",
              "    </tr>\n",
              "    <tr>\n",
              "      <th>3</th>\n",
              "      <td>1</td>\n",
              "      <td>0.440</td>\n",
              "      <td>0.365</td>\n",
              "      <td>0.125</td>\n",
              "      <td>0.5160</td>\n",
              "      <td>0.2155</td>\n",
              "      <td>0.1140</td>\n",
              "      <td>0.1550</td>\n",
              "    </tr>\n",
              "    <tr>\n",
              "      <th>4</th>\n",
              "      <td>2</td>\n",
              "      <td>0.330</td>\n",
              "      <td>0.255</td>\n",
              "      <td>0.080</td>\n",
              "      <td>0.2050</td>\n",
              "      <td>0.0895</td>\n",
              "      <td>0.0395</td>\n",
              "      <td>0.0550</td>\n",
              "    </tr>\n",
              "    <tr>\n",
              "      <th>...</th>\n",
              "      <td>...</td>\n",
              "      <td>...</td>\n",
              "      <td>...</td>\n",
              "      <td>...</td>\n",
              "      <td>...</td>\n",
              "      <td>...</td>\n",
              "      <td>...</td>\n",
              "      <td>...</td>\n",
              "    </tr>\n",
              "    <tr>\n",
              "      <th>4172</th>\n",
              "      <td>0</td>\n",
              "      <td>0.565</td>\n",
              "      <td>0.450</td>\n",
              "      <td>0.165</td>\n",
              "      <td>0.8870</td>\n",
              "      <td>0.3700</td>\n",
              "      <td>0.2390</td>\n",
              "      <td>0.2490</td>\n",
              "    </tr>\n",
              "    <tr>\n",
              "      <th>4173</th>\n",
              "      <td>1</td>\n",
              "      <td>0.590</td>\n",
              "      <td>0.440</td>\n",
              "      <td>0.135</td>\n",
              "      <td>0.8200</td>\n",
              "      <td>0.4390</td>\n",
              "      <td>0.2145</td>\n",
              "      <td>0.2605</td>\n",
              "    </tr>\n",
              "    <tr>\n",
              "      <th>4174</th>\n",
              "      <td>1</td>\n",
              "      <td>0.600</td>\n",
              "      <td>0.475</td>\n",
              "      <td>0.205</td>\n",
              "      <td>0.8200</td>\n",
              "      <td>0.5255</td>\n",
              "      <td>0.2875</td>\n",
              "      <td>0.3080</td>\n",
              "    </tr>\n",
              "    <tr>\n",
              "      <th>4175</th>\n",
              "      <td>0</td>\n",
              "      <td>0.625</td>\n",
              "      <td>0.485</td>\n",
              "      <td>0.150</td>\n",
              "      <td>0.8200</td>\n",
              "      <td>0.5310</td>\n",
              "      <td>0.2610</td>\n",
              "      <td>0.2960</td>\n",
              "    </tr>\n",
              "    <tr>\n",
              "      <th>4176</th>\n",
              "      <td>1</td>\n",
              "      <td>0.710</td>\n",
              "      <td>0.555</td>\n",
              "      <td>0.195</td>\n",
              "      <td>0.8200</td>\n",
              "      <td>0.3500</td>\n",
              "      <td>0.3765</td>\n",
              "      <td>0.4950</td>\n",
              "    </tr>\n",
              "  </tbody>\n",
              "</table>\n",
              "<p>4177 rows × 8 columns</p>\n",
              "</div>"
            ],
            "text/plain": [
              "      Sex  Length  Diameter  Height  Whole weight  Shucked weight  \\\n",
              "0       1   0.455     0.365   0.095        0.5140          0.2245   \n",
              "1       1   0.350     0.265   0.090        0.2255          0.0995   \n",
              "2       0   0.530     0.420   0.135        0.6770          0.2565   \n",
              "3       1   0.440     0.365   0.125        0.5160          0.2155   \n",
              "4       2   0.330     0.255   0.080        0.2050          0.0895   \n",
              "...   ...     ...       ...     ...           ...             ...   \n",
              "4172    0   0.565     0.450   0.165        0.8870          0.3700   \n",
              "4173    1   0.590     0.440   0.135        0.8200          0.4390   \n",
              "4174    1   0.600     0.475   0.205        0.8200          0.5255   \n",
              "4175    0   0.625     0.485   0.150        0.8200          0.5310   \n",
              "4176    1   0.710     0.555   0.195        0.8200          0.3500   \n",
              "\n",
              "      Viscera weight  Shell weight  \n",
              "0             0.1010        0.1500  \n",
              "1             0.0485        0.0700  \n",
              "2             0.1415        0.2100  \n",
              "3             0.1140        0.1550  \n",
              "4             0.0395        0.0550  \n",
              "...              ...           ...  \n",
              "4172          0.2390        0.2490  \n",
              "4173          0.2145        0.2605  \n",
              "4174          0.2875        0.3080  \n",
              "4175          0.2610        0.2960  \n",
              "4176          0.3765        0.4950  \n",
              "\n",
              "[4177 rows x 8 columns]"
            ]
          },
          "execution_count": 59,
          "metadata": {},
          "output_type": "execute_result"
        }
      ],
      "source": [
        "x=d.drop(columns= ['Rings'])\n",
        "y=d['Rings']\n",
        "x"
      ]
    },
    {
      "cell_type": "code",
      "execution_count": null,
      "id": "9cf8c51f",
      "metadata": {
        "id": "9cf8c51f",
        "outputId": "18896c82-9faa-4a1d-c6ee-203a17cca650"
      },
      "outputs": [
        {
          "data": {
            "text/plain": [
              "0       15\n",
              "1        7\n",
              "2        9\n",
              "3       10\n",
              "4        7\n",
              "        ..\n",
              "4172    11\n",
              "4173    10\n",
              "4174     9\n",
              "4175    10\n",
              "4176    12\n",
              "Name: Rings, Length: 4177, dtype: int64"
            ]
          },
          "execution_count": 60,
          "metadata": {},
          "output_type": "execute_result"
        }
      ],
      "source": [
        "y"
      ]
    },
    {
      "cell_type": "markdown",
      "id": "f008783a",
      "metadata": {
        "id": "f008783a"
      },
      "source": [
        "# 8. Scale the independent variables"
      ]
    },
    {
      "cell_type": "code",
      "execution_count": null,
      "id": "9d95588e",
      "metadata": {
        "id": "9d95588e"
      },
      "outputs": [],
      "source": [
        "from sklearn.preprocessing import scale  #StandardScaler"
      ]
    },
    {
      "cell_type": "code",
      "execution_count": null,
      "id": "eed9ddb3",
      "metadata": {
        "id": "eed9ddb3",
        "outputId": "bc812e0c-c146-4727-e572-ab55ac1ab576"
      },
      "outputs": [
        {
          "data": {
            "text/plain": [
              "array([[-0.0105225 , -0.67088921, -0.50179694, ..., -0.61037964,\n",
              "        -0.7328165 , -0.64358742],\n",
              "       [-0.0105225 , -1.61376082, -1.57304487, ..., -1.22513334,\n",
              "        -1.24343929, -1.25742181],\n",
              "       [-1.26630752,  0.00259051,  0.08738942, ..., -0.45300269,\n",
              "        -0.33890749, -0.18321163],\n",
              "       ...,\n",
              "       [-0.0105225 ,  0.63117159,  0.67657577, ...,  0.86994729,\n",
              "         1.08111018,  0.56873549],\n",
              "       [-1.26630752,  0.85566483,  0.78370057, ...,  0.89699645,\n",
              "         0.82336724,  0.47666033],\n",
              "       [-0.0105225 ,  1.61894185,  1.53357412, ...,  0.00683308,\n",
              "         1.94673739,  2.00357336]])"
            ]
          },
          "execution_count": 62,
          "metadata": {},
          "output_type": "execute_result"
        }
      ],
      "source": [
        "#Scaling the independent variables\n",
        "\n",
        "x = scale(x)\n",
        "x"
      ]
    },
    {
      "cell_type": "markdown",
      "id": "1bcf7c35",
      "metadata": {
        "id": "1bcf7c35"
      },
      "source": [
        "# 9. Split the data into training and testing\n"
      ]
    },
    {
      "cell_type": "code",
      "execution_count": null,
      "id": "3fbdf81e",
      "metadata": {
        "id": "3fbdf81e"
      },
      "outputs": [],
      "source": [
        "from sklearn.model_selection import train_test_split"
      ]
    },
    {
      "cell_type": "code",
      "execution_count": null,
      "id": "baa8005a",
      "metadata": {
        "id": "baa8005a",
        "outputId": "5d1fd7f8-0d6c-434e-9df6-75e91d549e61"
      },
      "outputs": [
        {
          "name": "stdout",
          "output_type": "stream",
          "text": [
            "(3341, 8) (836, 8)\n"
          ]
        }
      ],
      "source": [
        "#spliting data to train and test\n",
        "\n",
        "x_train, x_test, y_train, y_test = train_test_split(x,y, test_size = 0.2)\n",
        "print(x_train.shape, x_test.shape)"
      ]
    },
    {
      "cell_type": "markdown",
      "id": "a2d354c2",
      "metadata": {
        "id": "a2d354c2"
      },
      "source": [
        "# 10. Build the Model\n"
      ]
    },
    {
      "cell_type": "code",
      "execution_count": null,
      "id": "850e4a07",
      "metadata": {
        "id": "850e4a07"
      },
      "outputs": [],
      "source": [
        "#Multiple Regression \n",
        "\n",
        "from sklearn.linear_model import LinearRegression\n",
        "\n",
        "MLR=LinearRegression()"
      ]
    },
    {
      "cell_type": "markdown",
      "id": "fc418f84",
      "metadata": {
        "id": "fc418f84"
      },
      "source": [
        "# 11. Train the model"
      ]
    },
    {
      "cell_type": "code",
      "execution_count": 4,
      "id": "8240800c",
      "metadata": {
        "colab": {
          "base_uri": "https://localhost:8080/",
          "height": 165
        },
        "id": "8240800c",
        "outputId": "762348a8-1448-4b44-9dcb-b620b8dc17b5"
      },
      "outputs": [
        {
          "output_type": "error",
          "ename": "NameError",
          "evalue": "ignored",
          "traceback": [
            "\u001b[0;31m---------------------------------------------------------------------------\u001b[0m",
            "\u001b[0;31mNameError\u001b[0m                                 Traceback (most recent call last)",
            "\u001b[0;32m<ipython-input-4-c819097a84cd>\u001b[0m in \u001b[0;36m<module>\u001b[0;34m\u001b[0m\n\u001b[0;32m----> 1\u001b[0;31m \u001b[0mMLR\u001b[0m\u001b[0;34m.\u001b[0m\u001b[0mfit\u001b[0m\u001b[0;34m(\u001b[0m\u001b[0mx_train\u001b[0m\u001b[0;34m,\u001b[0m\u001b[0my_train\u001b[0m\u001b[0;34m)\u001b[0m\u001b[0;34m\u001b[0m\u001b[0;34m\u001b[0m\u001b[0m\n\u001b[0m",
            "\u001b[0;31mNameError\u001b[0m: name 'MLR' is not defined"
          ]
        }
      ],
      "source": [
        "MLR.fit(x_train,y_train)"
      ]
    },
    {
      "cell_type": "markdown",
      "id": "2c3ff512",
      "metadata": {
        "id": "2c3ff512"
      },
      "source": [
        "# 12. Test the model"
      ]
    },
    {
      "cell_type": "code",
      "execution_count": null,
      "id": "a67255b6",
      "metadata": {
        "id": "a67255b6",
        "outputId": "bce33089-fa4c-4801-af66-6b92293b849a"
      },
      "outputs": [
        {
          "data": {
            "text/plain": [
              "array([ 9.56232067,  7.19755627, 12.17545567,  6.68796889,  6.81141039,\n",
              "       11.65253734, 10.10186643, 12.62557907,  8.25152298,  6.65473336,\n",
              "        6.355173  , 13.85536788, 13.17311525, 11.3295467 , 12.05336871,\n",
              "       11.96120439,  7.00090769,  9.18627868, 11.73427744, 11.0171339 ,\n",
              "        7.6284892 ,  8.87680512,  6.48895197,  9.20434217, 10.62571717,\n",
              "       10.14539453, 10.41366006,  6.09844279,  6.67067929, 11.11967459,\n",
              "        6.18849609,  7.11321264, 10.02484165,  9.77822264, 10.06320689,\n",
              "       12.04543114,  6.05593959,  8.03652727,  9.7830606 , 12.04151177,\n",
              "       10.70812656, 12.1246719 , 10.42554762, 11.10153426, 10.97225975,\n",
              "       11.92181641, 11.9025537 , 10.03535105, 10.78987261,  9.68726745,\n",
              "       10.21396975,  7.70486124, 10.83707079, 12.54430014,  8.53898635,\n",
              "        9.06169949,  9.45477988, 10.94886012,  6.02923604, 10.2050178 ,\n",
              "        6.93960582,  7.65565349, 10.03715641,  9.16331448, 10.90389946,\n",
              "        8.87554261, 11.80272697, 11.08781041, 11.45060668, 11.90064295,\n",
              "        8.6472278 , 11.96307302, 11.67355714,  9.37441567, 12.55620715,\n",
              "        8.90059876, 10.30155303,  9.01169321,  9.90038968,  6.55970736,\n",
              "       10.52780985,  8.26821369, 10.80548611, 11.64263581, 11.5876582 ,\n",
              "       11.39864742, 12.629618  ,  7.98642656,  9.55410995,  9.64777038,\n",
              "        9.15693567, 11.91204116, 11.03371273,  9.03794167, 10.52382872,\n",
              "        8.27718202, 11.72780033,  6.27673932, 11.49659814,  8.0189265 ,\n",
              "        6.85420619,  7.82441681, 10.80471331, 11.17594478,  4.19260417,\n",
              "       11.42012692, 12.00839382,  7.20915411, 11.17238531,  9.76778112,\n",
              "       10.9888912 ,  9.03583738, 11.24398065,  6.88978627,  9.28240342,\n",
              "        9.56967271, 11.45558465,  9.21542417, 10.35456282, 13.47590751,\n",
              "        6.91751936,  6.25947229,  8.90243996, 11.21118499, 11.67897969,\n",
              "        5.99721159,  7.02957567, 13.93755527, 10.53069448,  7.0495923 ,\n",
              "        9.72987801,  9.78956478,  7.78386675,  6.57598651,  9.75560118,\n",
              "       11.45569966, 13.82308926, 10.67651445,  7.96954133,  6.15196629,\n",
              "       12.10883963,  6.47325303, 13.39250483, 10.56361587, 11.69890618,\n",
              "       11.99554315, 11.03558685,  8.99302786, 12.9219841 ,  7.58283815,\n",
              "        9.84877006,  6.91302939, 10.73334169, 13.30017585,  6.94918942,\n",
              "        8.47038306, 10.07122868, 11.39243766, 11.52698767, 10.98817915,\n",
              "        8.23702779,  9.70877829,  6.84813838, 10.35866912,  7.81223693,\n",
              "       10.44291198, 10.5559004 ,  8.90471959, 11.20643168, 14.58671746,\n",
              "        7.85696774,  7.70033032,  8.91527121, 10.38462766, 10.81266114,\n",
              "       10.61299444, 10.33740135,  9.12087508,  9.09108113,  4.86767713,\n",
              "        7.88876196, 13.02832116,  5.83797433,  8.87546839, 10.0880134 ,\n",
              "        6.39218486, 11.22511423, 11.01291911, 11.47371279,  7.89357089,\n",
              "       12.13033577, 12.70151342,  6.30975703, 12.13339173,  9.03824085,\n",
              "       10.49580129,  7.83703526, 14.35201795,  9.34878227, 10.27375611,\n",
              "        7.68348697,  7.73595489, 11.10392999,  8.95867563, 10.56750428,\n",
              "       10.68276382, 12.87180014, 11.21139587, 10.20702161, 13.40091701,\n",
              "        6.74438333, 13.08193446,  8.31107712,  9.36896727, 10.70329902,\n",
              "        7.48994415,  7.77612422, 11.32350381, 10.76970951,  6.32581212,\n",
              "        8.62993769,  9.82587737, 12.9138691 , 10.65099952,  7.05114066,\n",
              "        8.83496628,  9.78640747,  8.78408313, 10.24535895, 14.08372062,\n",
              "       11.59415124, 10.87500042, 10.40000133,  8.3895059 , 15.78729998,\n",
              "       10.8973955 ,  9.96939367, 10.92857001, 13.96806652,  9.90891346,\n",
              "       14.40620221,  9.96111   , 10.59752707, 10.64218456, 11.61164488,\n",
              "        9.54930214,  9.18536216,  9.48326306, 12.45086968, 10.31577507,\n",
              "        7.02412218,  8.60074094,  6.55853338,  6.8267182 , 11.27806243,\n",
              "        9.62417698,  9.30763675,  7.71225167,  6.31152615, 10.65890622,\n",
              "       10.68555259, 10.47415439,  5.97415411, 11.24080809, 15.36865222,\n",
              "        8.42572424, 10.47581488, 12.67956958,  9.09770539, 10.21013328,\n",
              "        8.03480179, 10.46345867, 11.20277741,  8.41871839, 11.96332735,\n",
              "       11.02374995,  8.49089066, 10.20382982, 10.98642802,  9.8395771 ,\n",
              "        7.03844752, 10.52435289,  9.23240578, 13.73167758,  9.78632697,\n",
              "       11.87803093,  9.02053589, 10.66567153, 11.47439559,  8.66190024,\n",
              "        7.72719912, 10.02167157, 10.0397404 , 11.44115123, 12.38901892,\n",
              "       10.37369673, 12.45312777,  8.00594776, 12.05307942, 12.79031892,\n",
              "        9.8289306 ,  7.53823374,  9.82368247,  6.91506282, 11.59334373,\n",
              "        9.82613846, 13.14555115,  9.75132861,  9.96234844, 12.4633359 ,\n",
              "        8.80422842, 12.13977553, 10.49213303,  8.39859828,  8.09556987,\n",
              "        8.13818713, 10.4195742 ,  7.71099146,  6.58020973, 12.41028245,\n",
              "        7.30761739, 12.92665939, 10.86552115, 10.29627044,  8.80648755,\n",
              "       10.45743237,  9.22267413, 12.71777594,  6.77272761, 11.32606369,\n",
              "        7.01994773, 10.7957895 , 11.35523175, 10.65738994,  7.72635768,\n",
              "       10.73264779,  9.75569455,  9.49972763, 10.00130637, 11.2968249 ,\n",
              "       13.29236826, 13.01362707,  9.98872742,  7.68675189, 11.4415783 ,\n",
              "        6.87838442,  8.52730625,  9.59701627,  8.01358992,  8.82689086,\n",
              "        9.89621326, 11.30273005, 11.99665236, 13.55870204, 10.8008616 ,\n",
              "       10.71771219, 10.22492888,  9.59486958, 10.08657927,  9.86177379,\n",
              "       10.87675981,  8.23639723,  6.96563615,  9.64091291,  9.35134204,\n",
              "       11.3713902 , 11.79687973,  8.3415344 , 12.33740515, 10.09429177,\n",
              "       10.90993997,  7.32524091, 12.71760435, 12.30900399,  7.46928688,\n",
              "       10.52889485, 10.25641402,  8.80747026,  6.4886803 ,  8.89484225,\n",
              "       11.28645946, 12.74510405, 10.97313574,  9.98264196, 11.66090365,\n",
              "        6.10755118,  7.96874907,  9.97003385, 12.85915978,  8.28489946,\n",
              "        4.16973318,  7.48564612,  9.84484248, 10.28463627, 12.27114797,\n",
              "       15.88134294, 13.38688941, 12.00766564, 10.75216301,  7.25651559,\n",
              "        9.04914777, 10.86390834,  7.88405788,  6.77756046,  7.19857404,\n",
              "        7.64006005,  7.80327296,  9.55032776, 10.11032968, 10.14989236,\n",
              "        8.82595647,  7.75373672, 13.56369047, 11.85046985, 11.13090921,\n",
              "        6.41231543, 11.91717969, 11.97654572,  9.26396909,  7.50970957,\n",
              "        5.81365971,  9.74906399, 10.85942598,  7.16195626, 12.3163721 ,\n",
              "        9.17377753,  7.71998958, 11.93902804, 11.40047029, 10.27245869,\n",
              "        7.28733885, 10.22083405,  9.18541857, 15.05378323,  7.74788611,\n",
              "        6.99603236,  8.07834494, 10.32498143,  7.89610644,  7.98350336,\n",
              "        6.5817457 ,  8.45855593, 10.78539824, 12.54515265,  8.29881371,\n",
              "       10.40663019,  9.71374454,  9.50135659,  9.88696265, 11.33754137,\n",
              "       10.16854408,  9.90430622, 11.36009559, 11.05639423,  9.7735533 ,\n",
              "        7.26741236, 14.26411407, 10.01857828, 11.08153429,  6.16506505,\n",
              "        7.44821912,  9.83171637,  6.65065386,  9.36001091, 12.04294071,\n",
              "       10.4429228 , 11.25940606, 11.12909448,  7.14959967, 14.75268071,\n",
              "       12.96303909,  7.4460127 , 11.5798998 , 16.54754561, 12.11606318,\n",
              "        3.78890948,  7.55280133, 11.39984769, 10.14297157, 10.61187478,\n",
              "       10.92330859, 11.54046924,  8.35591136, 14.01948383,  9.77531157,\n",
              "        7.9486812 , 11.59037026,  9.50744425, 10.22691729, 11.05136194,\n",
              "       13.42946609, 11.13055869,  7.83304496, 12.16072796, 13.31369032,\n",
              "       10.90079911, 10.32729206, 11.06192388, 10.91181359,  9.12333601,\n",
              "       11.02347167,  9.19676896,  9.91508986,  6.72640207, 11.2824039 ,\n",
              "        6.25427031, 11.95890501, 12.73309032, 10.93692681,  6.38762064,\n",
              "        8.77457034,  9.48245993, 12.60228753,  9.7951261 , 11.71943102,\n",
              "       11.43103689, 10.47864556,  7.11648334,  9.18849762,  9.85463184,\n",
              "       10.61778407, 13.99241061,  8.52469168,  9.91763113,  6.11796109,\n",
              "        9.4105441 , 12.32967309, 11.62159298, 10.84186575, 13.29722575,\n",
              "       10.84784427,  8.62099845, 12.10934053, 12.1074603 , 11.38429785,\n",
              "       13.09403138, 11.82569349,  8.79052453, 10.45329396, 10.33533737,\n",
              "        9.05396193,  7.45008847,  8.45006844,  9.29116274,  8.85639305,\n",
              "       10.03967069, 12.44702562, 10.1860211 , 11.04303132,  8.42543169,\n",
              "       10.47577603,  7.34594268,  4.92548685,  7.29511613,  8.66020343,\n",
              "       13.98445122,  5.96924161, 11.16329713,  7.76957434,  7.91265325,\n",
              "       11.5243711 ,  9.54260488,  7.64487298, 11.40748515, 10.05955511,\n",
              "       10.77546012, 12.66006627, 10.35935742,  9.90194466, 10.39883908,\n",
              "       11.55535519, 10.12679234,  7.62623634, 12.56011913,  9.39720742,\n",
              "        9.44165327, 12.38678545, 11.56860978,  9.72031086, 11.28098618,\n",
              "       11.96246646,  5.7476074 ,  8.90596281, 11.31393447, 12.03720382,\n",
              "        9.24517098, 10.94306381,  7.10435581, 13.08251421, 13.74271783,\n",
              "        8.63302031, 12.80742216, 11.75722621, 11.64820719,  7.36041164,\n",
              "        9.64376672, 10.32446093,  6.9910132 ,  3.4606273 ,  6.81559896,\n",
              "       13.30215359,  8.01103266,  9.32412959,  7.38120115,  8.15483881,\n",
              "       10.61386941,  6.38482086, 10.04058386,  9.50247092,  8.68157451,\n",
              "       11.05204038, 12.60949839,  6.16580407,  6.4883941 , 11.32828216,\n",
              "       12.16415202, 12.04129788, 11.12820857, 16.1797968 ,  9.85268505,\n",
              "        7.14240443,  5.68008775,  7.59506098,  9.7947073 ,  5.76704797,\n",
              "        5.96216412,  6.89910569, 12.05203092, 10.21554238,  9.23625509,\n",
              "        6.10742307, 10.36226228, 10.58147607, 11.15985226,  6.60595775,\n",
              "       10.08913388,  9.85757756, 10.53946848, 12.89819746, 12.62870892,\n",
              "       10.69186255,  9.12814143, 12.78351039,  8.89600934, 15.12114616,\n",
              "       10.18671107, 10.03457443, 13.7098309 ,  7.57582391,  8.64269111,\n",
              "        7.44466994,  7.84063618, 11.99664542,  5.82567407, 11.90435322,\n",
              "        9.74401253,  6.21990249,  8.25688733, 11.08915141,  6.50885175,\n",
              "        6.84277558, 10.66697608,  6.4173908 ,  8.47428217,  9.32510784,\n",
              "        8.80601731, 10.58530079, 10.00829671,  9.65178478, 12.23060707,\n",
              "       11.26724374, 11.51220403,  9.65550988, 12.3726616 , 11.86086808,\n",
              "        6.52606529, 11.77380153,  6.17661644, 10.57105746, 10.90926988,\n",
              "       12.43692852,  8.00928114,  8.08213542,  6.53993069,  9.56518065,\n",
              "       13.32808412, 12.45759861, 12.88301556,  9.52876194,  9.06593465,\n",
              "        8.13736772, 12.38757752, 11.21990793, 13.36851954, 12.08606712,\n",
              "        9.15570209,  9.96620173, 11.27427733,  7.23101251,  6.58667927,\n",
              "       11.920947  , 13.49465942,  7.93522736,  9.68881488, 11.84012367,\n",
              "        9.848229  , 11.84404276,  7.9725836 ,  5.68477384,  7.23609829,\n",
              "       13.33338893,  7.49832872, 12.07564515, 13.82284372, 10.50482871,\n",
              "        7.91098681, 12.28372563, 10.18787007, 10.93847527, 13.76725212,\n",
              "        9.5595163 , 11.17140435, 10.62550836, 11.32866135,  9.70819822,\n",
              "       10.78808921, 10.76237601, 10.15947041,  9.1145544 , 12.02838288,\n",
              "        9.46424999,  7.90935047, 10.17114239,  6.31523371, 11.95339882,\n",
              "        7.07959422, 11.14934112,  9.55718527,  7.22580872,  9.17148587,\n",
              "       10.08614925, 12.34158345,  9.17672079,  8.21557651, 10.12395726,\n",
              "       11.25273283,  9.65749865, 10.66622507,  7.45560855, 11.89636085,\n",
              "        9.51715616,  8.97747036,  6.57603259,  4.52630698,  7.14197678,\n",
              "       12.90820924, 10.0190957 ,  8.49040488, 11.00376924, 12.30636449,\n",
              "        7.51267037,  8.68156192, 10.96964327,  6.36407856,  9.32676715,\n",
              "        8.20027834,  8.12155662, 14.80647383, 13.06915566,  8.97710018,\n",
              "       11.29185158,  7.67435384, 10.69321897,  3.80658924, 10.91150916,\n",
              "        8.62020669,  5.99090939,  9.71812511, 12.59389307,  8.69993329,\n",
              "        8.76714763,  8.93235901, 11.65481558, 11.32456191, 10.21615279,\n",
              "        7.19681793, 10.16507184,  9.08679183, 10.17958316, 12.48512277,\n",
              "        9.94874027,  9.68716181,  9.475427  ,  9.69144292,  7.755378  ,\n",
              "        8.52358358,  8.02769212,  8.93442862, 10.22721518, 12.89307961,\n",
              "       16.11019162, 14.01724005,  6.23021499, 11.65160152,  7.84886117,\n",
              "        7.11722872, 12.08156893, 11.43641084, 11.14439485, 11.18092429,\n",
              "        6.74939069,  9.19267552, 10.43072254,  7.50969754, 11.75372709,\n",
              "       12.21332067, 12.29928177, 10.04061937,  8.62397343,  8.00680224,\n",
              "        9.58958453, 10.34723651, 10.0148802 , 10.27230306, 14.02064032,\n",
              "        6.51080709, 12.34834102, 10.21599246,  5.32952315, 12.07628387,\n",
              "       10.66632177,  5.75233828, 11.09736572,  9.36845413, 11.06439481,\n",
              "        8.50871786])"
            ]
          },
          "execution_count": 69,
          "metadata": {},
          "output_type": "execute_result"
        }
      ],
      "source": [
        "#predcition on the test data\n",
        "y_pred=MLR.predict(x_test)\n",
        "y_pred"
      ]
    },
    {
      "cell_type": "code",
      "execution_count": null,
      "id": "632793f5",
      "metadata": {
        "id": "632793f5",
        "outputId": "3894bb7a-7bb6-4222-e353-363ee8bbdaf0"
      },
      "outputs": [
        {
          "data": {
            "text/plain": [
              "array([ 9.84586178, 10.70270235,  9.09697411, ..., 12.66223706,\n",
              "       13.87025441, 10.07468021])"
            ]
          },
          "execution_count": 70,
          "metadata": {},
          "output_type": "execute_result"
        }
      ],
      "source": [
        "#prediction in the train data \n",
        "pred=MLR.predict(x_train)\n",
        "pred"
      ]
    },
    {
      "cell_type": "code",
      "execution_count": null,
      "id": "d06a7d4c",
      "metadata": {
        "id": "d06a7d4c",
        "outputId": "7e1da66c-871b-47bf-a2aa-d2ff97bed92b"
      },
      "outputs": [
        {
          "data": {
            "text/plain": [
              "0.453594229684136"
            ]
          },
          "execution_count": 71,
          "metadata": {},
          "output_type": "execute_result"
        }
      ],
      "source": [
        "from sklearn.metrics import r2_score\n",
        "\n",
        "acc=r2_score(y_test,y_pred)\n",
        "\n",
        "acc"
      ]
    },
    {
      "cell_type": "code",
      "execution_count": null,
      "id": "e5bc22c7",
      "metadata": {
        "id": "e5bc22c7",
        "outputId": "3c2056db-4b26-4a19-d328-4e446b0bb989"
      },
      "outputs": [
        {
          "data": {
            "text/plain": [
              "array([9.87947217])"
            ]
          },
          "execution_count": 72,
          "metadata": {},
          "output_type": "execute_result"
        }
      ],
      "source": [
        "#test this model\n",
        "\n",
        "MLR.predict([[1,0.455,0.365,0.095,0.5140,0.2245,0.1010,0.150]])"
      ]
    },
    {
      "cell_type": "markdown",
      "id": "a5fc2a1c",
      "metadata": {
        "id": "a5fc2a1c"
      },
      "source": [
        "# 13. Measure the performance using Metrics"
      ]
    },
    {
      "cell_type": "code",
      "execution_count": null,
      "id": "b7b5fc00",
      "metadata": {
        "id": "b7b5fc00"
      },
      "outputs": [],
      "source": [
        "from sklearn import metrics\n",
        "from sklearn.metrics import mean_squared_error"
      ]
    },
    {
      "cell_type": "code",
      "execution_count": null,
      "id": "70400c47",
      "metadata": {
        "id": "70400c47",
        "outputId": "07cf9f6a-2a52-491d-c4fc-c633a46a44b3"
      },
      "outputs": [
        {
          "data": {
            "text/plain": [
              "2.2497338061968057"
            ]
          },
          "execution_count": 74,
          "metadata": {},
          "output_type": "execute_result"
        }
      ],
      "source": [
        "np.sqrt(mean_squared_error(y_test,y_pred))"
      ]
    },
    {
      "cell_type": "markdown",
      "id": "7b156259",
      "metadata": {
        "id": "7b156259"
      },
      "source": [
        "## LASSO"
      ]
    },
    {
      "cell_type": "code",
      "execution_count": null,
      "id": "3ce9b324",
      "metadata": {
        "id": "3ce9b324"
      },
      "outputs": [],
      "source": [
        "from sklearn.linear_model import Lasso, Ridge"
      ]
    },
    {
      "cell_type": "code",
      "execution_count": null,
      "id": "419d8bb9",
      "metadata": {
        "id": "419d8bb9"
      },
      "outputs": [],
      "source": [
        "#intialising model\n",
        "\n",
        "lso=Lasso(alpha=0.01,normalize=True)"
      ]
    },
    {
      "cell_type": "code",
      "execution_count": null,
      "id": "c3036c44",
      "metadata": {
        "id": "c3036c44",
        "outputId": "d01266a9-9025-4a9c-f6c0-b2fb9abf23e3"
      },
      "outputs": [
        {
          "data": {
            "text/plain": [
              "Lasso(alpha=0.01, normalize=True)"
            ]
          },
          "execution_count": 77,
          "metadata": {},
          "output_type": "execute_result"
        }
      ],
      "source": [
        "#fit the model\n",
        "lso.fit(x_train,y_train)"
      ]
    },
    {
      "cell_type": "code",
      "execution_count": null,
      "id": "cd44e5ca",
      "metadata": {
        "id": "cd44e5ca"
      },
      "outputs": [],
      "source": [
        "#predcition on test data\n",
        "\n",
        "lso_pred=lso.predict(x_test)"
      ]
    },
    {
      "cell_type": "code",
      "execution_count": null,
      "id": "70247bd6",
      "metadata": {
        "id": "70247bd6",
        "outputId": "37a5e915-b596-427e-87e8-ea1e1ea47793"
      },
      "outputs": [
        {
          "data": {
            "text/plain": [
              "array([-0.        ,  0.        ,  0.        ,  0.45254135,  0.14236687,\n",
              "        0.        ,  0.        ,  0.8939626 ])"
            ]
          },
          "execution_count": 79,
          "metadata": {},
          "output_type": "execute_result"
        }
      ],
      "source": [
        "#coef\n",
        "coef=lso.coef_\n",
        "coef"
      ]
    },
    {
      "cell_type": "code",
      "execution_count": null,
      "id": "fa251b73",
      "metadata": {
        "id": "fa251b73",
        "outputId": "66c4513f-9824-4f38-c4b7-d97a94305dac"
      },
      "outputs": [
        {
          "data": {
            "text/plain": [
              "0.35863807123829816"
            ]
          },
          "execution_count": 80,
          "metadata": {},
          "output_type": "execute_result"
        }
      ],
      "source": [
        "#accuracy\n",
        "\n",
        "from sklearn import metrics\n",
        "from sklearn.metrics import mean_squared_error\n",
        "metrics.r2_score(y_test,lso_pred)"
      ]
    },
    {
      "cell_type": "code",
      "execution_count": null,
      "id": "68b9f14c",
      "metadata": {
        "id": "68b9f14c",
        "outputId": "d8c410ef-7c8c-4c3e-d3b1-7711eb24d447"
      },
      "outputs": [
        {
          "data": {
            "text/plain": [
              "2.4373903322278783"
            ]
          },
          "execution_count": 81,
          "metadata": {},
          "output_type": "execute_result"
        }
      ],
      "source": [
        "\n",
        "#error\n",
        "\n",
        "np.sqrt(mean_squared_error(y_test,lso_pred))"
      ]
    },
    {
      "cell_type": "markdown",
      "id": "7a3ab8e8",
      "metadata": {
        "id": "7a3ab8e8"
      },
      "source": [
        "## RIDGE"
      ]
    },
    {
      "cell_type": "code",
      "execution_count": null,
      "id": "6d484e0b",
      "metadata": {
        "id": "6d484e0b"
      },
      "outputs": [],
      "source": [
        "rg=Ridge(alpha=0.01,normalize=True)"
      ]
    },
    {
      "cell_type": "code",
      "execution_count": null,
      "id": "f7e624ab",
      "metadata": {
        "id": "f7e624ab",
        "outputId": "adbd23eb-efe3-46d2-cd0e-c03d80623fa5"
      },
      "outputs": [
        {
          "data": {
            "text/plain": [
              "Ridge(alpha=0.01, normalize=True)"
            ]
          },
          "execution_count": 83,
          "metadata": {},
          "output_type": "execute_result"
        }
      ],
      "source": [
        "#fit\n",
        "rg.fit(x_train,y_train)"
      ]
    },
    {
      "cell_type": "code",
      "execution_count": null,
      "id": "d338c045",
      "metadata": {
        "id": "d338c045",
        "outputId": "a936ebf0-047c-4c2e-d64a-34525f13f602"
      },
      "outputs": [
        {
          "data": {
            "text/plain": [
              "array([ 9.52873331,  7.20781215, 12.14767865,  6.71019935,  6.81666869,\n",
              "       11.62637555, 10.09181694, 12.6749307 ,  8.26447249,  6.66887585,\n",
              "        6.35061288, 13.76824928, 13.11005043, 11.34102509, 12.06965102,\n",
              "       11.90221671,  6.99402114,  9.10501689, 11.69542511, 11.06740391,\n",
              "        7.61600088,  8.91141481,  6.53286096,  9.21589982, 10.62252993,\n",
              "       10.13245706, 10.3881983 ,  6.10040118,  6.63766288, 11.19456021,\n",
              "        6.19015842,  7.10307288, 10.01677544,  9.78530638,  9.99979883,\n",
              "       11.96245675,  6.04584576,  8.08086386,  9.87919743, 11.94788868,\n",
              "       10.76350134, 12.13808769, 10.3687511 , 11.08734445, 10.96757218,\n",
              "       11.9868591 , 11.91002434,  9.99308349, 10.82244284,  9.75195986,\n",
              "       10.31497792,  7.71543726, 10.9239886 , 12.47764192,  8.63980155,\n",
              "        9.04202297,  9.59301953, 10.96940323,  6.01179164, 10.34239072,\n",
              "        6.94516652,  7.67378406, 10.08090979,  9.16452635, 10.85156881,\n",
              "        8.86701969, 11.72488318, 11.1532381 , 11.39252704, 11.80544378,\n",
              "        8.63677842, 11.93299921, 11.6697933 ,  9.35957161, 12.51656076,\n",
              "        8.88978106, 10.26314448,  9.03344775,  9.85527096,  6.53860977,\n",
              "       10.46607091,  8.27135385, 10.76404062, 11.64819114, 11.53579226,\n",
              "       11.30419   , 12.51373392,  7.96998678,  9.58933524,  9.69829262,\n",
              "        9.16733839, 11.86493059, 11.05363678,  9.02814165, 10.47667435,\n",
              "        8.28118469, 11.82642894,  6.31065532, 11.43743562,  8.00478401,\n",
              "        6.85991831,  7.88367277, 10.81220802, 11.11626132,  4.31971474,\n",
              "       11.43569451, 12.01228173,  7.20935545, 11.21330363,  9.79292778,\n",
              "       10.90025378,  9.05082304, 11.20199879,  6.88910567,  9.30820423,\n",
              "        9.61153253, 11.43368534,  9.40079789, 10.32026921, 13.47026416,\n",
              "        6.89192738,  6.235617  ,  8.90034232, 11.22941928, 11.74463691,\n",
              "        5.95768691,  7.03970162, 13.81373218, 10.6025767 ,  7.11472428,\n",
              "        9.79174312,  9.76053889,  7.79903344,  6.68799729,  9.90585749,\n",
              "       11.44965137, 13.66993969, 10.64587814,  7.94354096,  6.15284893,\n",
              "       12.10824342,  6.58998767, 13.30297373, 10.51208458, 11.72579271,\n",
              "       12.04471829, 11.12229286,  8.99611623, 12.88811295,  7.52716061,\n",
              "        9.87668908,  6.98047296, 10.78660847, 13.1242953 ,  6.96361216,\n",
              "        8.45629794, 10.14628829, 11.415616  , 11.54044604, 11.03268298,\n",
              "        8.23240394,  9.72189777,  6.84813187, 10.36562056,  7.78445346,\n",
              "       10.41993628, 10.64069242,  8.87292438, 11.14556664, 14.41896117,\n",
              "        7.78743617,  7.73127166,  8.96546071, 10.47580321, 10.90739172,\n",
              "       10.66779222, 10.35291713,  9.14229011,  9.12965678,  4.97159883,\n",
              "        7.91128019, 13.00892904,  5.78672977,  8.85571482, 10.18606182,\n",
              "        6.35572872, 11.22132352, 10.94438653, 11.42327403,  7.87818447,\n",
              "       12.05610161, 12.71529149,  6.29985787, 12.10989933,  9.04186013,\n",
              "       10.46489133,  7.83430253, 14.23492422,  9.33090916, 10.31115121,\n",
              "        7.69210658,  7.71989269, 11.13035082,  8.95810013, 10.58713329,\n",
              "       10.74878685, 12.86199511, 11.24491514, 10.19525923, 13.37054132,\n",
              "        6.73543063, 12.99474177,  8.28697398,  9.53487315, 10.68338002,\n",
              "        7.54342948,  7.77697753, 11.25941608, 10.71541139,  6.3385795 ,\n",
              "        8.67664959,  9.81731184, 12.93864733, 10.73639597,  7.00979027,\n",
              "        8.84650669, 10.00304308,  8.70321773, 10.32528579, 13.93131709,\n",
              "       11.62906364, 10.83407728, 10.41279568,  8.3961383 , 15.56524418,\n",
              "       10.88154662,  9.95323659, 10.98052955, 13.87169685, 10.00534277,\n",
              "       14.32722398,  9.93808486, 10.59307046, 10.58414236, 11.65480336,\n",
              "        9.58189099,  9.27683398,  9.49886591, 12.2961644 , 10.48396998,\n",
              "        7.0178077 ,  8.58923538,  6.57957064,  6.84757095, 11.205874  ,\n",
              "        9.63153059,  9.28745715,  7.72387254,  6.27337897, 10.72947939,\n",
              "       10.69329745, 10.41916227,  5.95419307, 11.21054361, 15.2180724 ,\n",
              "        8.40420349, 10.62300701, 12.52856505,  9.0790375 , 10.276452  ,\n",
              "        8.03380356, 10.4505996 , 11.2110249 ,  8.68842869, 11.93286187,\n",
              "       11.02805785,  8.49175264, 10.17345329, 11.17041799,  9.88121541,\n",
              "        7.04159138, 10.58069464,  9.23592935, 13.7026291 ,  9.79853787,\n",
              "       11.96944717,  9.03999342, 10.59908531, 11.44384213,  8.66830822,\n",
              "        7.74373953, 10.17187378, 10.06520008, 11.40538169, 12.31665238,\n",
              "       10.3849862 , 12.43024703,  7.96517043, 11.93197069, 12.62357305,\n",
              "        9.89667041,  7.55267731,  9.93270812,  6.89921735, 11.5618212 ,\n",
              "        9.79877593, 13.00425153,  9.66795514, 10.03852292, 12.48138032,\n",
              "        8.80630391, 12.12199342, 10.5593597 ,  8.45983801,  8.11083783,\n",
              "        8.1624298 , 10.4738589 ,  7.71881857,  6.5559061 , 12.3937018 ,\n",
              "        7.32257022, 12.78720051, 10.87084556, 10.35476208,  8.84203277,\n",
              "       10.44499388,  9.22826593, 12.68428708,  6.80354359, 11.35542272,\n",
              "        7.06358656, 10.80160915, 11.46965392, 10.80774272,  7.72924176,\n",
              "       10.69935259,  9.78743053,  9.49566126,  9.98398246, 11.33917762,\n",
              "       13.10880133, 12.90385207,  9.90634531,  7.71827817, 11.4001669 ,\n",
              "        6.89864286,  8.53619782,  9.64289444,  7.99996298,  8.80597576,\n",
              "        9.87674646, 11.30692402, 12.04599782, 13.55279359, 10.71756379,\n",
              "       10.67047481, 10.36171127,  9.66359033, 10.06411403,  9.99386576,\n",
              "       10.93030519,  8.29031551,  6.97843067,  9.71591238,  9.37401159,\n",
              "       11.34597617, 11.78166764,  8.37504337, 12.35686448, 10.06609321,\n",
              "       10.90551622,  7.34835826, 12.69807184, 12.30182991,  7.71862635,\n",
              "       10.55050488, 10.21812841,  8.79800197,  6.47395936,  8.91846792,\n",
              "       11.40229901, 12.67644235, 10.91905469,  9.97606935, 11.75366092,\n",
              "        6.07956042,  7.98325282, 10.07621049, 12.74466478,  8.30672896,\n",
              "        4.3174385 ,  7.48106846,  9.84008581, 10.38485403, 12.19614147,\n",
              "       15.743999  , 13.38985018, 11.93874745, 10.71884265,  7.26629606,\n",
              "        9.05229315, 10.88643604,  7.81248042,  6.76623825,  7.21792674,\n",
              "        7.66875379,  7.83002983,  9.5336033 , 10.2218477 , 10.13282617,\n",
              "        8.82195623,  7.80958   , 13.45091283, 11.86770763, 11.19663322,\n",
              "        6.38176425, 11.88133255, 11.99253544,  9.2867554 ,  7.53114038,\n",
              "        5.78192817,  9.7167695 , 10.88719219,  7.17652712, 12.31611016,\n",
              "        9.23479384,  7.781589  , 11.95975006, 11.43932028, 10.23024873,\n",
              "        7.3025269 , 10.23246188,  9.30683408, 14.93737877,  7.78095861,\n",
              "        7.01845919,  8.08657719, 10.32151628,  7.89645063,  8.01397958,\n",
              "        6.60435981,  8.44284551, 10.84324439, 12.54558913,  8.26890616,\n",
              "       10.38295524,  9.88421585,  9.60780589,  9.95196538, 11.20556396,\n",
              "       10.21594288,  9.85308623, 11.34623389, 11.16655818,  9.72387669,\n",
              "        7.28116384, 14.13229067, 10.04020691, 11.10471024,  6.17045227,\n",
              "        7.4256634 ,  9.8018655 ,  6.66123323,  9.27615054, 11.93510794,\n",
              "       10.54093859, 11.3362301 , 11.21169938,  7.20349816, 14.56530511,\n",
              "       12.96520458,  7.43592602, 11.54394487, 16.359947  , 11.95600173,\n",
              "        3.92594506,  7.53546622, 11.33606498, 10.25397434, 10.7363397 ,\n",
              "       10.98283913, 11.5141192 ,  8.40851152, 13.97113133,  9.88721936,\n",
              "        8.01265833, 11.56019044,  9.60312836, 10.20302896, 10.98670784,\n",
              "       13.34632932, 11.10475114,  7.79814721, 12.08241037, 13.15737043,\n",
              "       10.81474833, 10.30779869, 11.17048413, 10.97059256,  9.12081341,\n",
              "       10.961023  ,  9.24906564,  9.99562155,  6.75966813, 11.30127987,\n",
              "        6.26770585, 11.91893484, 12.67969667, 10.88555595,  6.38307545,\n",
              "        8.83801889,  9.44484003, 12.64259672,  9.82884419, 11.70183681,\n",
              "       11.42244419, 10.5153038 ,  7.16946931,  9.21556728,  9.90043586,\n",
              "       10.67187749, 13.90846849,  8.54315388,  9.95405706,  6.09881693,\n",
              "        9.43705271, 12.27474647, 11.62282526, 10.71675921, 13.14127277,\n",
              "       10.79666732,  8.66569768, 12.12051218, 12.0272078 , 11.30800928,\n",
              "       13.05229767, 11.81421676,  8.80107235, 10.49842859, 10.33060942,\n",
              "        9.11145308,  7.48954071,  8.43805409,  9.27811851,  8.85816045,\n",
              "       10.03718297, 12.40610793, 10.23422166, 10.94455862,  8.4332166 ,\n",
              "       10.54381626,  7.3117628 ,  5.05121283,  7.31447175,  8.6423952 ,\n",
              "       13.86048891,  5.97004721, 11.24024109,  7.74886611,  7.92162251,\n",
              "       11.53443848,  9.53756901,  7.63985485, 11.37217939, 10.13806553,\n",
              "       10.78405117, 12.6264759 , 10.40294961,  9.92060085, 10.39114878,\n",
              "       11.53443078, 10.24192429,  7.61552208, 12.4794433 ,  9.36293116,\n",
              "        9.49777584, 12.30746514, 11.49825595,  9.74674497, 11.22210063,\n",
              "       11.91743732,  5.72167291,  9.01769648, 11.29708758, 12.00989866,\n",
              "        9.2657777 , 10.97023963,  7.09810325, 13.07912529, 13.62112447,\n",
              "        8.63542258, 12.8468817 , 11.67704554, 11.63876609,  7.38574522,\n",
              "        9.62706943, 10.42358173,  7.00897596,  3.93585906,  6.81846365,\n",
              "       13.25026631,  8.06496306,  9.30792817,  7.37259729,  8.19594582,\n",
              "       10.56470777,  6.3679716 , 10.15603746,  9.53301265,  8.65109224,\n",
              "       11.16576608, 12.59267106,  6.12709279,  6.4872351 , 11.30852322,\n",
              "       12.10695348, 12.01773779, 11.18675771, 15.9819291 ,  9.81796099,\n",
              "        7.13962209,  5.68639473,  7.55715779,  9.83347063,  5.75667486,\n",
              "        5.9372433 ,  6.9063169 , 12.09781776, 10.24705163,  9.23563964,\n",
              "        6.0967128 , 10.39479799, 10.61916849, 11.2056428 ,  6.59447033,\n",
              "       10.22497832,  9.85587027, 10.68352493, 12.82690877, 12.66157843,\n",
              "       10.71561832,  9.16194229, 12.65971823,  8.88949605, 14.91299876,\n",
              "       10.21867197, 10.17929574, 13.57728247,  7.60462758,  8.62830208,\n",
              "        7.42557186,  7.85798479, 12.01000175,  5.81550741, 11.94421982,\n",
              "        9.93515387,  6.2184606 ,  8.27628797, 11.08561786,  6.62400234,\n",
              "        6.8866491 , 10.79694194,  6.45800079,  8.48632924,  9.28204693,\n",
              "        8.84621284, 10.60984767, 10.14424223,  9.68845973, 12.28839202,\n",
              "       11.28358217, 11.45390855,  9.65930025, 12.40489478, 11.762936  ,\n",
              "        6.54691315, 11.67236171,  6.15738336, 10.5281044 , 10.97459361,\n",
              "       12.35021903,  8.04563625,  8.08486895,  6.5162803 ,  9.58670506,\n",
              "       13.39575672, 12.42811688, 12.86042357,  9.49798484,  9.08226611,\n",
              "        8.15046127, 12.28727176, 11.29542547, 13.20302439, 12.07197665,\n",
              "        9.17596342,  9.94304769, 11.30273637,  7.25951099,  6.5643887 ,\n",
              "       11.9184521 , 13.45302819,  7.96002145,  9.66264447, 11.79330515,\n",
              "        9.92509393, 11.87409915,  7.91485381,  5.72539104,  7.26357929,\n",
              "       13.25106024,  7.46967669, 12.10000363, 13.71401959, 10.4579484 ,\n",
              "        7.94970996, 12.19214558, 10.17323875, 10.94173941, 13.65298726,\n",
              "        9.72519324, 11.17376316, 10.52840304, 11.32613463,  9.78985771,\n",
              "       10.82186572, 10.82685438, 10.35433658,  9.0879156 , 11.97972749,\n",
              "        9.59802242,  7.88673096, 10.26199378,  6.31337526, 11.915047  ,\n",
              "        7.11726886, 11.16563404,  9.57079682,  7.25444008,  9.14234641,\n",
              "       10.09195393, 12.26321603,  9.21518891,  8.20474263, 10.10413095,\n",
              "       11.20176884,  9.75439287, 10.62803408,  7.45928527, 11.76882693,\n",
              "        9.51951382,  8.97632454,  6.59017358,  4.66819822,  7.18039884,\n",
              "       12.87580932, 10.07597512,  8.51334786, 10.92933545, 12.28647609,\n",
              "        7.53875291,  8.7014604 , 10.98401017,  6.3197358 ,  9.42679645,\n",
              "        8.21093349,  8.12780768, 14.6082573 , 12.96985881,  8.97398262,\n",
              "       11.26175384,  7.65452905, 10.73499716,  3.94145048, 10.91673972,\n",
              "        8.68735073,  5.95822639,  9.78432727, 12.60735432,  8.71904108,\n",
              "        8.76919582,  8.91613768, 11.61756357, 11.34178796, 10.21638751,\n",
              "        7.1699912 , 10.13339837,  9.11336647, 10.26884985, 12.47544423,\n",
              "       10.05250502,  9.66370444,  9.60391583,  9.65697043,  7.80696451,\n",
              "        8.51791394,  8.09710006,  8.91558115, 10.2542057 , 12.75629966,\n",
              "       15.90227003, 13.86667808,  6.21982894, 11.67023867,  7.88666797,\n",
              "        7.10762423, 12.08519085, 11.41810551, 11.11293381, 11.12847704,\n",
              "        6.75210361,  9.18255906, 10.46190322,  7.52921426, 11.63338753,\n",
              "       12.1319043 , 12.25088954, 10.04210832,  8.66427214,  8.03325333,\n",
              "        9.5791297 , 10.42225221,  9.99748449, 10.32126435, 13.86311286,\n",
              "        6.53181101, 12.2483629 , 10.17645864,  5.32037694, 12.11288597,\n",
              "       10.62452758,  5.74489148, 11.10614667,  9.36651779, 11.09674777,\n",
              "        8.53191527])"
            ]
          },
          "execution_count": 84,
          "metadata": {},
          "output_type": "execute_result"
        }
      ],
      "source": [
        "#predcition\n",
        "\n",
        "rg_pred=rg.predict(x_test)\n",
        "rg_pred"
      ]
    },
    {
      "cell_type": "code",
      "execution_count": null,
      "id": "bee7433b",
      "metadata": {
        "id": "bee7433b",
        "outputId": "3b597aef-2439-43dc-cc62-795197c78707"
      },
      "outputs": [
        {
          "data": {
            "text/plain": [
              "array([-0.33034681, -0.75080284,  0.25026028,  1.00167015,  0.93545612,\n",
              "       -1.39455501, -0.0307678 ,  1.77821467])"
            ]
          },
          "execution_count": 85,
          "metadata": {},
          "output_type": "execute_result"
        }
      ],
      "source": [
        "#coef\n",
        "rg.coef_"
      ]
    },
    {
      "cell_type": "code",
      "execution_count": null,
      "id": "b3ee3a92",
      "metadata": {
        "id": "b3ee3a92",
        "outputId": "6efd50eb-7174-45d0-9eb8-85076cfefc54"
      },
      "outputs": [
        {
          "data": {
            "text/plain": [
              "0.45306390505079364"
            ]
          },
          "execution_count": 86,
          "metadata": {},
          "output_type": "execute_result"
        }
      ],
      "source": [
        "#accuracy\n",
        "\n",
        "metrics.r2_score(y_test,rg_pred)"
      ]
    },
    {
      "cell_type": "code",
      "execution_count": null,
      "id": "51abf9ee",
      "metadata": {
        "id": "51abf9ee",
        "outputId": "aa9756d2-b175-4e50-b8e1-28293f7a0bbc"
      },
      "outputs": [
        {
          "data": {
            "text/plain": [
              "2.2508253026332983"
            ]
          },
          "execution_count": 87,
          "metadata": {},
          "output_type": "execute_result"
        }
      ],
      "source": [
        "#error\n",
        "\n",
        "np.sqrt(mean_squared_error(y_test,rg_pred))"
      ]
    }
  ],
  "metadata": {
    "kernelspec": {
      "display_name": "Python 3 (ipykernel)",
      "language": "python",
      "name": "python3"
    },
    "language_info": {
      "codemirror_mode": {
        "name": "ipython",
        "version": 3
      },
      "file_extension": ".py",
      "mimetype": "text/x-python",
      "name": "python",
      "nbconvert_exporter": "python",
      "pygments_lexer": "ipython3",
      "version": "3.9.12"
    },
    "colab": {
      "provenance": []
    }
  },
  "nbformat": 4,
  "nbformat_minor": 5
}